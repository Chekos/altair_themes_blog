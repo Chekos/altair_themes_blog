{
 "cells": [
  {
   "cell_type": "code",
   "execution_count": 1,
   "metadata": {},
   "outputs": [
    {
     "name": "stdout",
     "output_type": "stream",
     "text": [
      "Solving environment: done\n",
      "\n",
      "\n",
      "==> WARNING: A newer version of conda exists. <==\n",
      "  current version: 4.5.8\n",
      "  latest version: 4.5.11\n",
      "\n",
      "Please update conda by running\n",
      "\n",
      "    $ conda update -n base conda\n",
      "\n",
      "\n",
      "\n",
      "## Package Plan ##\n",
      "\n",
      "  environment location: /opt/conda\n",
      "\n",
      "  added / updated specs: \n",
      "    - altair\n",
      "    - vega\n",
      "    - vega_datasets\n",
      "\n",
      "\n",
      "The following packages will be downloaded:\n",
      "\n",
      "    package                    |            build\n",
      "    ---------------------------|-----------------\n",
      "    jupyter-1.0.0              |             py_1           6 KB  conda-forge\n",
      "    vega_datasets-0.5.0        |             py_0         163 KB  conda-forge\n",
      "    vega-1.4.0                 |           py36_1         1.6 MB  conda-forge\n",
      "    qt-5.6.3                   |       h39df351_0        44.6 MB  defaults\n",
      "    altair-2.2.2               |           py36_1         461 KB  conda-forge\n",
      "    jupyter_console-5.2.0      |           py36_1          34 KB  conda-forge\n",
      "    pyqt-5.6.0                 |   py36h8210e8a_7         5.4 MB  conda-forge\n",
      "    certifi-2018.8.24          |        py36_1001         139 KB  conda-forge\n",
      "    qtconsole-4.4.1            |           py36_1         156 KB  conda-forge\n",
      "    ------------------------------------------------------------\n",
      "                                           Total:        52.6 MB\n",
      "\n",
      "The following NEW packages will be INSTALLED:\n",
      "\n",
      "    altair:          2.2.2-py36_1         conda-forge\n",
      "    jupyter:         1.0.0-py_1           conda-forge\n",
      "    jupyter_console: 5.2.0-py36_1         conda-forge\n",
      "    pyqt:            5.6.0-py36h8210e8a_7 conda-forge\n",
      "    qt:              5.6.3-h39df351_0     defaults   \n",
      "    qtconsole:       4.4.1-py36_1         conda-forge\n",
      "    vega:            1.4.0-py36_1         conda-forge\n",
      "    vega_datasets:   0.5.0-py_0           conda-forge\n",
      "\n",
      "The following packages will be UPDATED:\n",
      "\n",
      "    certifi:         2018.8.24-py36_1     conda-forge --> 2018.8.24-py36_1001 conda-forge\n",
      "\n",
      "\n",
      "Downloading and Extracting Packages\n",
      "jupyter-1.0.0        |    6 KB | ####################################### | 100% \n",
      "vega_datasets-0.5.0  |  163 KB | ####################################### | 100% \n",
      "vega-1.4.0           |  1.6 MB | ####################################### | 100% \n",
      "qt-5.6.3             | 44.6 MB | ####################################### | 100% \n",
      "altair-2.2.2         |  461 KB | ####################################### | 100% \n",
      "jupyter_console-5.2. |   34 KB | ####################################### | 100% \n",
      "pyqt-5.6.0           |  5.4 MB | ####################################### | 100% \n",
      "certifi-2018.8.24    |  139 KB | ####################################### | 100% \n",
      "qtconsole-4.4.1      |  156 KB | ####################################### | 100% \n",
      "Preparing transaction: done\n",
      "Verifying transaction: done\n",
      "Executing transaction: done\n"
     ]
    }
   ],
   "source": [
    "!conda install -c conda-forge altair vega vega_datasets -y"
   ]
  },
  {
   "cell_type": "code",
   "execution_count": null,
   "metadata": {},
   "outputs": [],
   "source": []
  }
 ],
 "metadata": {
  "kernelspec": {
   "display_name": "Python 3",
   "language": "python",
   "name": "python3"
  },
  "language_info": {
   "codemirror_mode": {
    "name": "ipython",
    "version": 3
   },
   "file_extension": ".py",
   "mimetype": "text/x-python",
   "name": "python",
   "nbconvert_exporter": "python",
   "pygments_lexer": "ipython3",
   "version": "3.6.3"
  }
 },
 "nbformat": 4,
 "nbformat_minor": 2
}
