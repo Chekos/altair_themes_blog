{
 "cells": [
  {
   "cell_type": "code",
   "execution_count": 1,
   "metadata": {},
   "outputs": [],
   "source": [
    "import pandas.util.testing as tm\n",
    "import pandas as pd"
   ]
  },
  {
   "cell_type": "code",
   "execution_count": 2,
   "metadata": {},
   "outputs": [
    {
     "data": {
      "text/html": [
       "<div>\n",
       "<style scoped>\n",
       "    .dataframe tbody tr th:only-of-type {\n",
       "        vertical-align: middle;\n",
       "    }\n",
       "\n",
       "    .dataframe tbody tr th {\n",
       "        vertical-align: top;\n",
       "    }\n",
       "\n",
       "    .dataframe thead th {\n",
       "        text-align: right;\n",
       "    }\n",
       "</style>\n",
       "<table border=\"1\" class=\"dataframe\">\n",
       "  <thead>\n",
       "    <tr style=\"text-align: right;\">\n",
       "      <th></th>\n",
       "      <th>A</th>\n",
       "      <th>B</th>\n",
       "      <th>C</th>\n",
       "      <th>D</th>\n",
       "    </tr>\n",
       "  </thead>\n",
       "  <tbody>\n",
       "    <tr>\n",
       "      <th>xmeQ5FDXbv</th>\n",
       "      <td>1.078285</td>\n",
       "      <td>1.307071</td>\n",
       "      <td>-0.857118</td>\n",
       "      <td>-1.467646</td>\n",
       "    </tr>\n",
       "    <tr>\n",
       "      <th>biyFNHuVxt</th>\n",
       "      <td>0.773412</td>\n",
       "      <td>-1.553417</td>\n",
       "      <td>-0.513437</td>\n",
       "      <td>-0.249767</td>\n",
       "    </tr>\n",
       "    <tr>\n",
       "      <th>M5kF0cbaub</th>\n",
       "      <td>0.406631</td>\n",
       "      <td>0.284384</td>\n",
       "      <td>0.579473</td>\n",
       "      <td>-0.779015</td>\n",
       "    </tr>\n",
       "    <tr>\n",
       "      <th>OmuOQVfUcz</th>\n",
       "      <td>-1.708432</td>\n",
       "      <td>1.646367</td>\n",
       "      <td>0.098289</td>\n",
       "      <td>0.782253</td>\n",
       "    </tr>\n",
       "    <tr>\n",
       "      <th>ZLBzjLRWtX</th>\n",
       "      <td>-0.634618</td>\n",
       "      <td>0.524671</td>\n",
       "      <td>-1.210752</td>\n",
       "      <td>-0.966347</td>\n",
       "    </tr>\n",
       "  </tbody>\n",
       "</table>\n",
       "</div>"
      ],
      "text/plain": [
       "                   A         B         C         D\n",
       "xmeQ5FDXbv  1.078285  1.307071 -0.857118 -1.467646\n",
       "biyFNHuVxt  0.773412 -1.553417 -0.513437 -0.249767\n",
       "M5kF0cbaub  0.406631  0.284384  0.579473 -0.779015\n",
       "OmuOQVfUcz -1.708432  1.646367  0.098289  0.782253\n",
       "ZLBzjLRWtX -0.634618  0.524671 -1.210752 -0.966347"
      ]
     },
     "execution_count": 2,
     "metadata": {},
     "output_type": "execute_result"
    }
   ],
   "source": [
    "df = tm.makeDataFrame()\n",
    "df.head()"
   ]
  },
  {
   "cell_type": "code",
   "execution_count": 3,
   "metadata": {},
   "outputs": [],
   "source": [
    "df = df.melt()"
   ]
  },
  {
   "cell_type": "code",
   "execution_count": 4,
   "metadata": {},
   "outputs": [],
   "source": [
    "import altair as alt"
   ]
  },
  {
   "cell_type": "code",
   "execution_count": 5,
   "metadata": {},
   "outputs": [
    {
     "data": {
      "text/html": [
       "<style>\n",
       "@import url('https://fonts.googleapis.com/css?family=Lato');\n",
       "</style>"
      ],
      "text/plain": [
       "<IPython.core.display.HTML object>"
      ]
     },
     "metadata": {},
     "output_type": "display_data"
    }
   ],
   "source": [
    "%%html\n",
    "<style>\n",
    "@import url('https://fonts.googleapis.com/css?family=Lato');\n",
    "</style>"
   ]
  },
  {
   "cell_type": "code",
   "execution_count": 6,
   "metadata": {},
   "outputs": [],
   "source": [
    "df['value'] = abs(df['value'] * 100)"
   ]
  },
  {
   "cell_type": "code",
   "execution_count": 69,
   "metadata": {},
   "outputs": [],
   "source": [
    "%run urban_theme.py"
   ]
  },
  {
   "cell_type": "markdown",
   "metadata": {},
   "source": [
    "Urban Institute says the width of your bars should be about twice the size between them so you'd have to do that on your own by passing a `size` value on `mark_bar()`"
   ]
  },
  {
   "cell_type": "code",
   "execution_count": 61,
   "metadata": {},
   "outputs": [
    {
     "data": {
      "application/vnd.vegalite.v2+json": {
       "$schema": "https://vega.github.io/schema/vega-lite/v2.6.0.json",
       "config": {
        "area": {
         "fill": "#1696d2"
        },
        "axisX": {
         "domain": true,
         "domainColor": "#000000",
         "domainWidth": 1,
         "grid": false,
         "labelAngle": 0,
         "labelFont": "Lato",
         "labelFontSize": 12,
         "tickColor": "#000000",
         "tickSize": 5,
         "title": "",
         "titleFont": "Lato",
         "titleFontSize": 12,
         "titlePadding": 10
        },
        "axisY": {
         "domain": false,
         "grid": true,
         "gridColor": "#DEDDDD",
         "gridWidth": 1,
         "labelFont": "Lato",
         "labelFontSize": 12,
         "labelPadding": 8,
         "ticks": false,
         "titleAngle": 0,
         "titleFont": "Lato",
         "titleFontSize": 12,
         "titlePadding": 10,
         "titleX": 18,
         "titleY": -10
        },
        "background": "#FFFFFF",
        "bar": {
         "binSpacing": 1,
         "continuousBandSize": 30,
         "discreteBandSize": 30,
         "fill": "#1696d2",
         "size": 40,
         "stroke": false
        },
        "legend": {
         "labelFont": "Lato",
         "labelFontSize": 12,
         "labelLimit": 500,
         "offset": 0,
         "orient": "right",
         "padding": 10,
         "symbolSize": 100,
         "symbolType": "square",
         "title": "",
         "titleFont": "Lato",
         "titleFontSize": 12,
         "titlePadding": 10
        },
        "line": {
         "color": "#1696d2",
         "stroke": "#1696d2",
         "strokewidth": 5
        },
        "path": {
         "stroke": "#1696d2",
         "strokeWidth": 0.5
        },
        "point": {
         "filled": true
        },
        "range": {
         "category": [
          "#1696d2",
          "#d2d2d2",
          "#000000",
          "#fdbf11",
          "#ec008b",
          "#55b748",
          "#5c5859",
          "#db2b27"
         ],
         "diverging": [
          "#cfe8f3",
          "#a2d4ec",
          "#73bfe2",
          "#46abdb",
          "#1696d2",
          "#12719e"
         ]
        },
        "text": {
         "align": "right",
         "color": "#1696d2",
         "font": "Lato",
         "fontSize": 11,
         "fontWeight": 400,
         "size": 11
        },
        "title": {
         "anchor": "start",
         "font": "Lato",
         "fontColor": "#000000",
         "fontSize": 18
        },
        "trail": {
         "color": "#1696d2",
         "size": 1,
         "stroke": "#1696d2",
         "strokeWidth": 0
        },
        "view": {
         "stroke": "transparent"
        }
       },
       "data": {
        "name": "data-1da0ecce860b6f917595ca7509194eba"
       },
       "datasets": {
        "data-1da0ecce860b6f917595ca7509194eba": [
         {
          "value": 107.82850802208559,
          "variable": "A"
         },
         {
          "value": 77.34115019090893,
          "variable": "A"
         },
         {
          "value": 40.66311685530897,
          "variable": "A"
         },
         {
          "value": 170.8432069664303,
          "variable": "A"
         },
         {
          "value": 63.46175243692773,
          "variable": "A"
         },
         {
          "value": 8.770386808857854,
          "variable": "A"
         },
         {
          "value": 134.31445992190766,
          "variable": "A"
         },
         {
          "value": 128.18532894679032,
          "variable": "A"
         },
         {
          "value": 135.40174617220916,
          "variable": "A"
         },
         {
          "value": 64.46996622002982,
          "variable": "A"
         },
         {
          "value": 19.252269233198962,
          "variable": "A"
         },
         {
          "value": 69.16517979644388,
          "variable": "A"
         },
         {
          "value": 19.993991335018112,
          "variable": "A"
         },
         {
          "value": 12.819104025722083,
          "variable": "A"
         },
         {
          "value": 75.93313553740165,
          "variable": "A"
         },
         {
          "value": 55.13965305827242,
          "variable": "A"
         },
         {
          "value": 18.407200556290295,
          "variable": "A"
         },
         {
          "value": 159.2547733207889,
          "variable": "A"
         },
         {
          "value": 94.23472448778519,
          "variable": "A"
         },
         {
          "value": 113.89274874575483,
          "variable": "A"
         },
         {
          "value": 35.663288846626976,
          "variable": "A"
         },
         {
          "value": 140.2755994585695,
          "variable": "A"
         },
         {
          "value": 96.6828603026442,
          "variable": "A"
         },
         {
          "value": 70.04338410145446,
          "variable": "A"
         },
         {
          "value": 92.71536290172699,
          "variable": "A"
         },
         {
          "value": 58.684610043976015,
          "variable": "A"
         },
         {
          "value": 6.787799199676329,
          "variable": "A"
         },
         {
          "value": 29.218443283129524,
          "variable": "A"
         },
         {
          "value": 7.775494893995676,
          "variable": "A"
         },
         {
          "value": 0.4177808447983008,
          "variable": "A"
         },
         {
          "value": 130.70712192411597,
          "variable": "B"
         },
         {
          "value": 155.34167355053566,
          "variable": "B"
         },
         {
          "value": 28.438372267290372,
          "variable": "B"
         },
         {
          "value": 164.63672007440934,
          "variable": "B"
         },
         {
          "value": 52.467071518806776,
          "variable": "B"
         },
         {
          "value": 14.18589390203437,
          "variable": "B"
         },
         {
          "value": 58.478801880191845,
          "variable": "B"
         },
         {
          "value": 79.04684727379761,
          "variable": "B"
         },
         {
          "value": 77.77478439296294,
          "variable": "B"
         },
         {
          "value": 4.138406769152621,
          "variable": "B"
         },
         {
          "value": 109.34306169244942,
          "variable": "B"
         },
         {
          "value": 103.87393705642423,
          "variable": "B"
         },
         {
          "value": 21.59101828146677,
          "variable": "B"
         },
         {
          "value": 187.80861137837007,
          "variable": "B"
         },
         {
          "value": 18.56687232571629,
          "variable": "B"
         },
         {
          "value": 65.8538366477124,
          "variable": "B"
         },
         {
          "value": 99.85967203001009,
          "variable": "B"
         },
         {
          "value": 105.25647224349086,
          "variable": "B"
         },
         {
          "value": 42.768431182861214,
          "variable": "B"
         },
         {
          "value": 121.42346354775317,
          "variable": "B"
         },
         {
          "value": 72.1658250537674,
          "variable": "B"
         },
         {
          "value": 107.14042439045852,
          "variable": "B"
         },
         {
          "value": 107.61605456313421,
          "variable": "B"
         },
         {
          "value": 143.716347162986,
          "variable": "B"
         },
         {
          "value": 153.01306247904265,
          "variable": "B"
         },
         {
          "value": 108.48181531884373,
          "variable": "B"
         },
         {
          "value": 0.36504334410824923,
          "variable": "B"
         },
         {
          "value": 84.23865127712804,
          "variable": "B"
         },
         {
          "value": 140.4654004863477,
          "variable": "B"
         },
         {
          "value": 104.45700909613286,
          "variable": "B"
         },
         {
          "value": 85.7118027568104,
          "variable": "C"
         },
         {
          "value": 51.34365050524231,
          "variable": "C"
         },
         {
          "value": 57.947286938000275,
          "variable": "C"
         },
         {
          "value": 9.828941438087924,
          "variable": "C"
         },
         {
          "value": 121.0752193582411,
          "variable": "C"
         },
         {
          "value": 50.991049099651676,
          "variable": "C"
         },
         {
          "value": 57.86410875975464,
          "variable": "C"
         },
         {
          "value": 188.90400778257404,
          "variable": "C"
         },
         {
          "value": 23.51260345403296,
          "variable": "C"
         },
         {
          "value": 1.662407847864526,
          "variable": "C"
         },
         {
          "value": 42.46048614000163,
          "variable": "C"
         },
         {
          "value": 81.55149159514761,
          "variable": "C"
         },
         {
          "value": 95.52051313992533,
          "variable": "C"
         },
         {
          "value": 121.34266681537873,
          "variable": "C"
         },
         {
          "value": 186.06862932406895,
          "variable": "C"
         },
         {
          "value": 55.95585736965821,
          "variable": "C"
         },
         {
          "value": 71.03944849080305,
          "variable": "C"
         },
         {
          "value": 108.5246575617041,
          "variable": "C"
         },
         {
          "value": 0.6756529442757602,
          "variable": "C"
         },
         {
          "value": 127.20952808947756,
          "variable": "C"
         },
         {
          "value": 3.035796488913696,
          "variable": "C"
         },
         {
          "value": 90.57562162314645,
          "variable": "C"
         },
         {
          "value": 101.52620218521436,
          "variable": "C"
         },
         {
          "value": 35.11440211198675,
          "variable": "C"
         },
         {
          "value": 174.84279776445402,
          "variable": "C"
         },
         {
          "value": 127.83770877911635,
          "variable": "C"
         },
         {
          "value": 247.68176615615653,
          "variable": "C"
         },
         {
          "value": 136.10298034498527,
          "variable": "C"
         },
         {
          "value": 91.68327387976016,
          "variable": "C"
         },
         {
          "value": 10.800169172875043,
          "variable": "C"
         },
         {
          "value": 146.76457981597343,
          "variable": "D"
         },
         {
          "value": 24.976672332144066,
          "variable": "D"
         },
         {
          "value": 77.90146764360189,
          "variable": "D"
         },
         {
          "value": 78.22525660944147,
          "variable": "D"
         },
         {
          "value": 96.63466611298544,
          "variable": "D"
         },
         {
          "value": 103.78985116129653,
          "variable": "D"
         },
         {
          "value": 100.07551383846855,
          "variable": "D"
         },
         {
          "value": 10.50372862919061,
          "variable": "D"
         },
         {
          "value": 16.90208963496868,
          "variable": "D"
         },
         {
          "value": 76.14968813454055,
          "variable": "D"
         },
         {
          "value": 19.60370910831089,
          "variable": "D"
         },
         {
          "value": 75.0304569516228,
          "variable": "D"
         },
         {
          "value": 81.44147393245937,
          "variable": "D"
         },
         {
          "value": 141.26163406469453,
          "variable": "D"
         },
         {
          "value": 155.68024515105606,
          "variable": "D"
         },
         {
          "value": 14.868169437640672,
          "variable": "D"
         },
         {
          "value": 23.194607703966128,
          "variable": "D"
         },
         {
          "value": 19.936385495440874,
          "variable": "D"
         },
         {
          "value": 85.93004960302243,
          "variable": "D"
         },
         {
          "value": 196.1467484932784,
          "variable": "D"
         },
         {
          "value": 11.330004811994232,
          "variable": "D"
         },
         {
          "value": 40.3986489491199,
          "variable": "D"
         },
         {
          "value": 133.00392746619121,
          "variable": "D"
         },
         {
          "value": 25.813471643850317,
          "variable": "D"
         },
         {
          "value": 90.86640189256349,
          "variable": "D"
         },
         {
          "value": 49.10364646445415,
          "variable": "D"
         },
         {
          "value": 102.60515171171123,
          "variable": "D"
         },
         {
          "value": 111.24578321690191,
          "variable": "D"
         },
         {
          "value": 217.2793786746964,
          "variable": "D"
         },
         {
          "value": 119.44851771081555,
          "variable": "D"
         }
        ]
       },
       "encoding": {
        "x": {
         "axis": {
          "title": "X Axis Title (units)"
         },
         "field": "variable",
         "type": "nominal"
        },
        "y": {
         "axis": {
          "format": "s",
          "title": "Y Axis Title (units)"
         },
         "field": "value",
         "scale": {},
         "type": "quantitative"
        }
       },
       "height": 380,
       "mark": {
        "size": 100,
        "type": "bar"
       },
       "title": "Title Cased Title Sentence Short Description",
       "width": 685
      },
      "image/png": "[encoded data removed]",
      "text/plain": [
       "<VegaLite 2 object>\n",
       "\n",
       "If you see this message, it means the renderer has not been properly enabled\n",
       "for the frontend that you are using. For more information, see\n",
       "https://altair-viz.github.io/user_guide/troubleshooting.html\n"
      ]
     },
     "execution_count": 61,
     "metadata": {},
     "output_type": "execute_result"
    }
   ],
   "source": [
    "chart = alt.Chart(df).mark_bar(size = 100).encode(\n",
    "    x = alt.X('variable:N', axis = alt.Axis(title = \"X Axis Title (units)\")),\n",
    "    y = alt.Y('value:Q', axis = alt.Axis(title = \"Y Axis Title (units)\", format = \"s\"), scale = alt.Scale()),\n",
    ").properties(\n",
    "    title = \"Title Cased Title Sentence Short Description\",\n",
    ")\n",
    "\n",
    "chart"
   ]
  },
  {
   "cell_type": "code",
   "execution_count": 15,
   "metadata": {},
   "outputs": [],
   "source": [
    "time = tm.makeTimeDataFrame(freq = \"A\")\n",
    "\n",
    "time.reset_index(inplace = True)"
   ]
  },
  {
   "cell_type": "code",
   "execution_count": 16,
   "metadata": {},
   "outputs": [],
   "source": [
    "time.head()\n",
    "time['A'] = time['A'].rolling(10).mean()\n",
    "time['B'] = time['B'].rolling(10).mean()\n",
    "time['C'] = time['C'].rolling(10).mean()\n",
    "time['D'] = time['D'].rolling(10).mean()"
   ]
  },
  {
   "cell_type": "code",
   "execution_count": 17,
   "metadata": {},
   "outputs": [],
   "source": [
    "time = time.melt(id_vars = 'index')\n",
    "\n",
    "time['value'] = abs(time['value'] * 10)\n",
    "time.dropna(inplace = True)"
   ]
  },
  {
   "cell_type": "code",
   "execution_count": 70,
   "metadata": {},
   "outputs": [
    {
     "data": {
      "application/vnd.vegalite.v2+json": {
       "$schema": "https://vega.github.io/schema/vega-lite/v2.6.0.json",
       "config": {
        "area": {
         "fill": "#1696d2"
        },
        "axisX": {
         "domain": true,
         "domainColor": "#000000",
         "domainWidth": 1,
         "grid": false,
         "labelAngle": 0,
         "labelFont": "Lato",
         "labelFontSize": 12,
         "tickColor": "#000000",
         "tickSize": 5,
         "title": "",
         "titleFont": "Lato",
         "titleFontSize": 12,
         "titlePadding": 10
        },
        "axisY": {
         "domain": false,
         "grid": true,
         "gridColor": "#DEDDDD",
         "gridWidth": 1,
         "labelFont": "Lato",
         "labelFontSize": 12,
         "labelPadding": 8,
         "ticks": false,
         "titleAngle": 0,
         "titleFont": "Lato",
         "titleFontSize": 12,
         "titlePadding": 10,
         "titleX": 18,
         "titleY": -10
        },
        "background": "#FFFFFF",
        "bar": {
         "binSpacing": 1,
         "continuousBandSize": 30,
         "discreteBandSize": 30,
         "fill": "#1696d2",
         "size": 40,
         "stroke": false
        },
        "legend": {
         "labelFont": "Lato",
         "labelFontSize": 12,
         "offset": 0,
         "orient": "top-left",
         "symbolSize": 100,
         "symbolType": "square",
         "title": "",
         "titleFont": "Lato",
         "titleFontSize": 12,
         "titlePadding": 10
        },
        "line": {
         "color": "#1696d2",
         "stroke": "#1696d2",
         "strokewidth": 5
        },
        "path": {
         "stroke": "#1696d2",
         "strokeWidth": 0.5
        },
        "point": {
         "filled": true
        },
        "range": {
         "category": [
          "#1696d2",
          "#d2d2d2",
          "#000000",
          "#fdbf11",
          "#ec008b",
          "#55b748",
          "#5c5859",
          "#db2b27"
         ],
         "diverging": [
          "#cfe8f3",
          "#a2d4ec",
          "#73bfe2",
          "#46abdb",
          "#1696d2",
          "#12719e"
         ]
        },
        "text": {
         "align": "right",
         "color": "#1696d2",
         "font": "Lato",
         "fontSize": 11,
         "fontWeight": 400,
         "size": 11
        },
        "title": {
         "anchor": "start",
         "font": "Lato",
         "fontColor": "#000000",
         "fontSize": 18
        },
        "trail": {
         "color": "#1696d2",
         "size": 1,
         "stroke": "#1696d2",
         "strokeWidth": 0
        },
        "view": {
         "stroke": "transparent"
        }
       },
       "data": {
        "name": "data-ebc89b5481b964b179fa010f67c816c4"
       },
       "datasets": {
        "data-ebc89b5481b964b179fa010f67c816c4": [
         {
          "index": "2009-12-31T00:00:00",
          "value": 3.779664370635258,
          "variable": "A"
         },
         {
          "index": "2010-12-31T00:00:00",
          "value": 0.24713198707099146,
          "variable": "A"
         },
         {
          "index": "2011-12-31T00:00:00",
          "value": 1.7484846239829577,
          "variable": "A"
         },
         {
          "index": "2012-12-31T00:00:00",
          "value": 0.7555967287631713,
          "variable": "A"
         },
         {
          "index": "2013-12-31T00:00:00",
          "value": 0.17400467645628875,
          "variable": "A"
         },
         {
          "index": "2014-12-31T00:00:00",
          "value": 0.830574506558929,
          "variable": "A"
         },
         {
          "index": "2015-12-31T00:00:00",
          "value": 1.769996433811598,
          "variable": "A"
         },
         {
          "index": "2016-12-31T00:00:00",
          "value": 0.7158548850050597,
          "variable": "A"
         },
         {
          "index": "2017-12-31T00:00:00",
          "value": 2.311737415610313,
          "variable": "A"
         },
         {
          "index": "2018-12-31T00:00:00",
          "value": 3.55725159933237,
          "variable": "A"
         },
         {
          "index": "2019-12-31T00:00:00",
          "value": 8.064307168804536,
          "variable": "A"
         },
         {
          "index": "2020-12-31T00:00:00",
          "value": 5.869169017411609,
          "variable": "A"
         },
         {
          "index": "2021-12-31T00:00:00",
          "value": 7.400836837962748,
          "variable": "A"
         },
         {
          "index": "2022-12-31T00:00:00",
          "value": 7.650045062191015,
          "variable": "A"
         },
         {
          "index": "2023-12-31T00:00:00",
          "value": 8.937380117159282,
          "variable": "A"
         },
         {
          "index": "2024-12-31T00:00:00",
          "value": 9.387730424271638,
          "variable": "A"
         },
         {
          "index": "2025-12-31T00:00:00",
          "value": 8.777075358826464,
          "variable": "A"
         },
         {
          "index": "2026-12-31T00:00:00",
          "value": 8.215158357414316,
          "variable": "A"
         },
         {
          "index": "2027-12-31T00:00:00",
          "value": 6.925390024172167,
          "variable": "A"
         },
         {
          "index": "2028-12-31T00:00:00",
          "value": 8.37555044549079,
          "variable": "A"
         },
         {
          "index": "2029-12-31T00:00:00",
          "value": 6.548133479258096,
          "variable": "A"
         },
         {
          "index": "2009-12-31T00:00:00",
          "value": 1.426281134507876,
          "variable": "B"
         },
         {
          "index": "2010-12-31T00:00:00",
          "value": 0.5932829644614462,
          "variable": "B"
         },
         {
          "index": "2011-12-31T00:00:00",
          "value": 0.1648591220507366,
          "variable": "B"
         },
         {
          "index": "2012-12-31T00:00:00",
          "value": 1.7359285379720601,
          "variable": "B"
         },
         {
          "index": "2013-12-31T00:00:00",
          "value": 2.9564407056129163,
          "variable": "B"
         },
         {
          "index": "2014-12-31T00:00:00",
          "value": 5.097783254160113,
          "variable": "B"
         },
         {
          "index": "2015-12-31T00:00:00",
          "value": 3.572216582464642,
          "variable": "B"
         },
         {
          "index": "2016-12-31T00:00:00",
          "value": 2.1994205347908222,
          "variable": "B"
         },
         {
          "index": "2017-12-31T00:00:00",
          "value": 2.7567837724305875,
          "variable": "B"
         },
         {
          "index": "2018-12-31T00:00:00",
          "value": 3.7509018611200675,
          "variable": "B"
         },
         {
          "index": "2019-12-31T00:00:00",
          "value": 2.4977288924984467,
          "variable": "B"
         },
         {
          "index": "2020-12-31T00:00:00",
          "value": 3.8842641998563963,
          "variable": "B"
         },
         {
          "index": "2021-12-31T00:00:00",
          "value": 4.924934667267354,
          "variable": "B"
         },
         {
          "index": "2022-12-31T00:00:00",
          "value": 3.968935482548633,
          "variable": "B"
         },
         {
          "index": "2023-12-31T00:00:00",
          "value": 1.999559770346195,
          "variable": "B"
         },
         {
          "index": "2024-12-31T00:00:00",
          "value": 0.8243980502466729,
          "variable": "B"
         },
         {
          "index": "2025-12-31T00:00:00",
          "value": 1.7803907378856088,
          "variable": "B"
         },
         {
          "index": "2026-12-31T00:00:00",
          "value": 0.47286596039330914,
          "variable": "B"
         },
         {
          "index": "2027-12-31T00:00:00",
          "value": 0.7362390467777087,
          "variable": "B"
         },
         {
          "index": "2028-12-31T00:00:00",
          "value": 0.16371616690328117,
          "variable": "B"
         },
         {
          "index": "2029-12-31T00:00:00",
          "value": 0.05300534513529387,
          "variable": "B"
         },
         {
          "index": "2009-12-31T00:00:00",
          "value": 0.058726325640378246,
          "variable": "C"
         },
         {
          "index": "2010-12-31T00:00:00",
          "value": 1.1560827351837164,
          "variable": "C"
         },
         {
          "index": "2011-12-31T00:00:00",
          "value": 1.9779408455655978,
          "variable": "C"
         },
         {
          "index": "2012-12-31T00:00:00",
          "value": 4.096160107578549,
          "variable": "C"
         },
         {
          "index": "2013-12-31T00:00:00",
          "value": 3.790982945912946,
          "variable": "C"
         },
         {
          "index": "2014-12-31T00:00:00",
          "value": 3.026163123313053,
          "variable": "C"
         },
         {
          "index": "2015-12-31T00:00:00",
          "value": 4.1677424350952155,
          "variable": "C"
         },
         {
          "index": "2016-12-31T00:00:00",
          "value": 4.749684127382997,
          "variable": "C"
         },
         {
          "index": "2017-12-31T00:00:00",
          "value": 5.0191535246957315,
          "variable": "C"
         },
         {
          "index": "2018-12-31T00:00:00",
          "value": 6.409130672917636,
          "variable": "C"
         },
         {
          "index": "2019-12-31T00:00:00",
          "value": 5.602762806255105,
          "variable": "C"
         },
         {
          "index": "2020-12-31T00:00:00",
          "value": 4.537049227096096,
          "variable": "C"
         },
         {
          "index": "2021-12-31T00:00:00",
          "value": 2.79167864154654,
          "variable": "C"
         },
         {
          "index": "2022-12-31T00:00:00",
          "value": 1.8140663268206283,
          "variable": "C"
         },
         {
          "index": "2023-12-31T00:00:00",
          "value": 2.199196037690312,
          "variable": "C"
         },
         {
          "index": "2024-12-31T00:00:00",
          "value": 1.8814679577537254,
          "variable": "C"
         },
         {
          "index": "2025-12-31T00:00:00",
          "value": 2.967163345369711,
          "variable": "C"
         },
         {
          "index": "2026-12-31T00:00:00",
          "value": 3.4816458306556965,
          "variable": "C"
         },
         {
          "index": "2027-12-31T00:00:00",
          "value": 0.2438314498903722,
          "variable": "C"
         },
         {
          "index": "2028-12-31T00:00:00",
          "value": 0.7096135970212404,
          "variable": "C"
         },
         {
          "index": "2029-12-31T00:00:00",
          "value": 1.0272206392636618,
          "variable": "C"
         },
         {
          "index": "2009-12-31T00:00:00",
          "value": 1.186085864061432,
          "variable": "D"
         },
         {
          "index": "2010-12-31T00:00:00",
          "value": 1.9703812463385013,
          "variable": "D"
         },
         {
          "index": "2011-12-31T00:00:00",
          "value": 3.08725137108405,
          "variable": "D"
         },
         {
          "index": "2012-12-31T00:00:00",
          "value": 4.676896098102862,
          "variable": "D"
         },
         {
          "index": "2013-12-31T00:00:00",
          "value": 5.510746437462714,
          "variable": "D"
         },
         {
          "index": "2014-12-31T00:00:00",
          "value": 4.335861983833061,
          "variable": "D"
         },
         {
          "index": "2015-12-31T00:00:00",
          "value": 2.7278573219089006,
          "variable": "D"
         },
         {
          "index": "2016-12-31T00:00:00",
          "value": 5.489825880928917,
          "variable": "D"
         },
         {
          "index": "2017-12-31T00:00:00",
          "value": 6.073218655692202,
          "variable": "D"
         },
         {
          "index": "2018-12-31T00:00:00",
          "value": 6.547004521052559,
          "variable": "D"
         },
         {
          "index": "2019-12-31T00:00:00",
          "value": 6.791873190950623,
          "variable": "D"
         },
         {
          "index": "2020-12-31T00:00:00",
          "value": 5.169127657556956,
          "variable": "D"
         },
         {
          "index": "2021-12-31T00:00:00",
          "value": 2.9093480406909746,
          "variable": "D"
         },
         {
          "index": "2022-12-31T00:00:00",
          "value": 2.2963720851266562,
          "variable": "D"
         },
         {
          "index": "2023-12-31T00:00:00",
          "value": 3.019447937475653,
          "variable": "D"
         },
         {
          "index": "2024-12-31T00:00:00",
          "value": 5.307390730935879,
          "variable": "D"
         },
         {
          "index": "2025-12-31T00:00:00",
          "value": 4.655629186440328,
          "variable": "D"
         },
         {
          "index": "2026-12-31T00:00:00",
          "value": 2.9881429529239485,
          "variable": "D"
         },
         {
          "index": "2027-12-31T00:00:00",
          "value": 2.5057502094291895,
          "variable": "D"
         },
         {
          "index": "2028-12-31T00:00:00",
          "value": 0.8972067766720069,
          "variable": "D"
         },
         {
          "index": "2029-12-31T00:00:00",
          "value": 0.4087654970341372,
          "variable": "D"
         }
        ]
       },
       "encoding": {
        "color": {
         "field": "variable",
         "type": "nominal"
        },
        "x": {
         "field": "index",
         "type": "temporal"
        },
        "y": {
         "axis": {
          "title": "Y Axis Title (units)"
         },
         "field": "value",
         "type": "quantitative"
        }
       },
       "height": 380,
       "mark": "line",
       "title": "Line Chart Example Title",
       "width": 685
      },
      "image/png": "[encoded data removed]",
      "text/plain": [
       "<VegaLite 2 object>\n",
       "\n",
       "If you see this message, it means the renderer has not been properly enabled\n",
       "for the frontend that you are using. For more information, see\n",
       "https://altair-viz.github.io/user_guide/troubleshooting.html\n"
      ]
     },
     "execution_count": 70,
     "metadata": {},
     "output_type": "execute_result"
    }
   ],
   "source": [
    "time_chart = alt.Chart(time).mark_line().encode(\n",
    "    x = \"index:T\",\n",
    "    y = alt.Y('value:Q', axis = alt.Axis(title = \"Y Axis Title (units)\")),\n",
    "    color = 'variable:N'\n",
    ").properties(\n",
    "    title = \"Line Chart Example Title\"\n",
    ")\n",
    "\n",
    "time_chart"
   ]
  },
  {
   "cell_type": "code",
   "execution_count": 35,
   "metadata": {},
   "outputs": [
    {
     "data": {
      "application/vnd.vegalite.v2+json": {
       "$schema": "https://vega.github.io/schema/vega-lite/v2.6.0.json",
       "config": {
        "area": {
         "fill": "#1696d2"
        },
        "axisX": {
         "domain": true,
         "domainColor": "#000000",
         "domainWidth": 1,
         "grid": false,
         "gridColor": "#FFF",
         "labelAngle": 0,
         "labelFont": "Lato",
         "labelFontSize": 12,
         "labelPadding": 8,
         "tickColor": "#000000",
         "tickSize": 2,
         "title": "",
         "titleFont": "Lato",
         "titleFontSize": 12,
         "titlePadding": 10
        },
        "axisY": {
         "domain": false,
         "domainColor": "#000000",
         "domainWidth": 1,
         "gridColor": "#DEDDDD",
         "gridWidth": 1,
         "labelFont": "Lato",
         "labelFontSize": 12,
         "labelPadding": 8,
         "ticks": false,
         "titleAngle": 0,
         "titleFont": "Lato",
         "titleFontSize": 12,
         "titlePadding": 10,
         "titleX": 18,
         "titleY": -10
        },
        "background": "#FFF",
        "bar": {
         "binSpacing": 1,
         "continuousBandSize": 30,
         "discreteBandSize": 30,
         "fill": "#1696d2",
         "size": 40,
         "stroke": false
        },
        "legend": {
         "labelFont": "Lato",
         "labelFontSize": 12,
         "labelLimit": 500,
         "offset": 0,
         "orient": "top-left",
         "padding": 10,
         "symbolSize": 100,
         "symbolType": "square",
         "title": "",
         "titleFont": "Lato",
         "titleFontSize": 12,
         "titlePadding": 10
        },
        "line": {
         "color": "#1696d2",
         "stroke": "#1696d2",
         "strokewidth": 5
        },
        "padding": 10,
        "path": {
         "stroke": "#1696d2",
         "strokeWidth": 0.5
        },
        "point": {
         "filled": true
        },
        "range": {
         "category": [
          "#1696d2",
          "#d2d2d2",
          "#000000",
          "#fdbf11",
          "#ec008b",
          "#55b748",
          "#5c5859",
          "#db2b27"
         ],
         "diverging": [
          "#cfe8f3",
          "#a2d4ec",
          "#73bfe2",
          "#46abdb",
          "#1696d2",
          "#12719e"
         ]
        },
        "style": {
         "text": {
          "align": "right",
          "color": "#1696d2",
          "font": "Lato",
          "fontSize": 11,
          "fontWeight": 400,
          "size": 11
         }
        },
        "title": {
         "anchor": "start",
         "font": "Lato",
         "fontSize": 18,
         "fontWeight": 700,
         "offset": 0
        },
        "trail": {
         "color": "#1696d2",
         "size": 1,
         "stroke": "#1696d2",
         "strokeWidth": 0
        },
        "view": {
         "stroke": "transparent"
        }
       },
       "data": {
        "name": "data-ebc89b5481b964b179fa010f67c816c4"
       },
       "datasets": {
        "data-ebc89b5481b964b179fa010f67c816c4": [
         {
          "index": "2009-12-31T00:00:00",
          "value": 3.779664370635258,
          "variable": "A"
         },
         {
          "index": "2010-12-31T00:00:00",
          "value": 0.24713198707099146,
          "variable": "A"
         },
         {
          "index": "2011-12-31T00:00:00",
          "value": 1.7484846239829577,
          "variable": "A"
         },
         {
          "index": "2012-12-31T00:00:00",
          "value": 0.7555967287631713,
          "variable": "A"
         },
         {
          "index": "2013-12-31T00:00:00",
          "value": 0.17400467645628875,
          "variable": "A"
         },
         {
          "index": "2014-12-31T00:00:00",
          "value": 0.830574506558929,
          "variable": "A"
         },
         {
          "index": "2015-12-31T00:00:00",
          "value": 1.769996433811598,
          "variable": "A"
         },
         {
          "index": "2016-12-31T00:00:00",
          "value": 0.7158548850050597,
          "variable": "A"
         },
         {
          "index": "2017-12-31T00:00:00",
          "value": 2.311737415610313,
          "variable": "A"
         },
         {
          "index": "2018-12-31T00:00:00",
          "value": 3.55725159933237,
          "variable": "A"
         },
         {
          "index": "2019-12-31T00:00:00",
          "value": 8.064307168804536,
          "variable": "A"
         },
         {
          "index": "2020-12-31T00:00:00",
          "value": 5.869169017411609,
          "variable": "A"
         },
         {
          "index": "2021-12-31T00:00:00",
          "value": 7.400836837962748,
          "variable": "A"
         },
         {
          "index": "2022-12-31T00:00:00",
          "value": 7.650045062191015,
          "variable": "A"
         },
         {
          "index": "2023-12-31T00:00:00",
          "value": 8.937380117159282,
          "variable": "A"
         },
         {
          "index": "2024-12-31T00:00:00",
          "value": 9.387730424271638,
          "variable": "A"
         },
         {
          "index": "2025-12-31T00:00:00",
          "value": 8.777075358826464,
          "variable": "A"
         },
         {
          "index": "2026-12-31T00:00:00",
          "value": 8.215158357414316,
          "variable": "A"
         },
         {
          "index": "2027-12-31T00:00:00",
          "value": 6.925390024172167,
          "variable": "A"
         },
         {
          "index": "2028-12-31T00:00:00",
          "value": 8.37555044549079,
          "variable": "A"
         },
         {
          "index": "2029-12-31T00:00:00",
          "value": 6.548133479258096,
          "variable": "A"
         },
         {
          "index": "2009-12-31T00:00:00",
          "value": 1.426281134507876,
          "variable": "B"
         },
         {
          "index": "2010-12-31T00:00:00",
          "value": 0.5932829644614462,
          "variable": "B"
         },
         {
          "index": "2011-12-31T00:00:00",
          "value": 0.1648591220507366,
          "variable": "B"
         },
         {
          "index": "2012-12-31T00:00:00",
          "value": 1.7359285379720601,
          "variable": "B"
         },
         {
          "index": "2013-12-31T00:00:00",
          "value": 2.9564407056129163,
          "variable": "B"
         },
         {
          "index": "2014-12-31T00:00:00",
          "value": 5.097783254160113,
          "variable": "B"
         },
         {
          "index": "2015-12-31T00:00:00",
          "value": 3.572216582464642,
          "variable": "B"
         },
         {
          "index": "2016-12-31T00:00:00",
          "value": 2.1994205347908222,
          "variable": "B"
         },
         {
          "index": "2017-12-31T00:00:00",
          "value": 2.7567837724305875,
          "variable": "B"
         },
         {
          "index": "2018-12-31T00:00:00",
          "value": 3.7509018611200675,
          "variable": "B"
         },
         {
          "index": "2019-12-31T00:00:00",
          "value": 2.4977288924984467,
          "variable": "B"
         },
         {
          "index": "2020-12-31T00:00:00",
          "value": 3.8842641998563963,
          "variable": "B"
         },
         {
          "index": "2021-12-31T00:00:00",
          "value": 4.924934667267354,
          "variable": "B"
         },
         {
          "index": "2022-12-31T00:00:00",
          "value": 3.968935482548633,
          "variable": "B"
         },
         {
          "index": "2023-12-31T00:00:00",
          "value": 1.999559770346195,
          "variable": "B"
         },
         {
          "index": "2024-12-31T00:00:00",
          "value": 0.8243980502466729,
          "variable": "B"
         },
         {
          "index": "2025-12-31T00:00:00",
          "value": 1.7803907378856088,
          "variable": "B"
         },
         {
          "index": "2026-12-31T00:00:00",
          "value": 0.47286596039330914,
          "variable": "B"
         },
         {
          "index": "2027-12-31T00:00:00",
          "value": 0.7362390467777087,
          "variable": "B"
         },
         {
          "index": "2028-12-31T00:00:00",
          "value": 0.16371616690328117,
          "variable": "B"
         },
         {
          "index": "2029-12-31T00:00:00",
          "value": 0.05300534513529387,
          "variable": "B"
         },
         {
          "index": "2009-12-31T00:00:00",
          "value": 0.058726325640378246,
          "variable": "C"
         },
         {
          "index": "2010-12-31T00:00:00",
          "value": 1.1560827351837164,
          "variable": "C"
         },
         {
          "index": "2011-12-31T00:00:00",
          "value": 1.9779408455655978,
          "variable": "C"
         },
         {
          "index": "2012-12-31T00:00:00",
          "value": 4.096160107578549,
          "variable": "C"
         },
         {
          "index": "2013-12-31T00:00:00",
          "value": 3.790982945912946,
          "variable": "C"
         },
         {
          "index": "2014-12-31T00:00:00",
          "value": 3.026163123313053,
          "variable": "C"
         },
         {
          "index": "2015-12-31T00:00:00",
          "value": 4.1677424350952155,
          "variable": "C"
         },
         {
          "index": "2016-12-31T00:00:00",
          "value": 4.749684127382997,
          "variable": "C"
         },
         {
          "index": "2017-12-31T00:00:00",
          "value": 5.0191535246957315,
          "variable": "C"
         },
         {
          "index": "2018-12-31T00:00:00",
          "value": 6.409130672917636,
          "variable": "C"
         },
         {
          "index": "2019-12-31T00:00:00",
          "value": 5.602762806255105,
          "variable": "C"
         },
         {
          "index": "2020-12-31T00:00:00",
          "value": 4.537049227096096,
          "variable": "C"
         },
         {
          "index": "2021-12-31T00:00:00",
          "value": 2.79167864154654,
          "variable": "C"
         },
         {
          "index": "2022-12-31T00:00:00",
          "value": 1.8140663268206283,
          "variable": "C"
         },
         {
          "index": "2023-12-31T00:00:00",
          "value": 2.199196037690312,
          "variable": "C"
         },
         {
          "index": "2024-12-31T00:00:00",
          "value": 1.8814679577537254,
          "variable": "C"
         },
         {
          "index": "2025-12-31T00:00:00",
          "value": 2.967163345369711,
          "variable": "C"
         },
         {
          "index": "2026-12-31T00:00:00",
          "value": 3.4816458306556965,
          "variable": "C"
         },
         {
          "index": "2027-12-31T00:00:00",
          "value": 0.2438314498903722,
          "variable": "C"
         },
         {
          "index": "2028-12-31T00:00:00",
          "value": 0.7096135970212404,
          "variable": "C"
         },
         {
          "index": "2029-12-31T00:00:00",
          "value": 1.0272206392636618,
          "variable": "C"
         },
         {
          "index": "2009-12-31T00:00:00",
          "value": 1.186085864061432,
          "variable": "D"
         },
         {
          "index": "2010-12-31T00:00:00",
          "value": 1.9703812463385013,
          "variable": "D"
         },
         {
          "index": "2011-12-31T00:00:00",
          "value": 3.08725137108405,
          "variable": "D"
         },
         {
          "index": "2012-12-31T00:00:00",
          "value": 4.676896098102862,
          "variable": "D"
         },
         {
          "index": "2013-12-31T00:00:00",
          "value": 5.510746437462714,
          "variable": "D"
         },
         {
          "index": "2014-12-31T00:00:00",
          "value": 4.335861983833061,
          "variable": "D"
         },
         {
          "index": "2015-12-31T00:00:00",
          "value": 2.7278573219089006,
          "variable": "D"
         },
         {
          "index": "2016-12-31T00:00:00",
          "value": 5.489825880928917,
          "variable": "D"
         },
         {
          "index": "2017-12-31T00:00:00",
          "value": 6.073218655692202,
          "variable": "D"
         },
         {
          "index": "2018-12-31T00:00:00",
          "value": 6.547004521052559,
          "variable": "D"
         },
         {
          "index": "2019-12-31T00:00:00",
          "value": 6.791873190950623,
          "variable": "D"
         },
         {
          "index": "2020-12-31T00:00:00",
          "value": 5.169127657556956,
          "variable": "D"
         },
         {
          "index": "2021-12-31T00:00:00",
          "value": 2.9093480406909746,
          "variable": "D"
         },
         {
          "index": "2022-12-31T00:00:00",
          "value": 2.2963720851266562,
          "variable": "D"
         },
         {
          "index": "2023-12-31T00:00:00",
          "value": 3.019447937475653,
          "variable": "D"
         },
         {
          "index": "2024-12-31T00:00:00",
          "value": 5.307390730935879,
          "variable": "D"
         },
         {
          "index": "2025-12-31T00:00:00",
          "value": 4.655629186440328,
          "variable": "D"
         },
         {
          "index": "2026-12-31T00:00:00",
          "value": 2.9881429529239485,
          "variable": "D"
         },
         {
          "index": "2027-12-31T00:00:00",
          "value": 2.5057502094291895,
          "variable": "D"
         },
         {
          "index": "2028-12-31T00:00:00",
          "value": 0.8972067766720069,
          "variable": "D"
         },
         {
          "index": "2029-12-31T00:00:00",
          "value": 0.4087654970341372,
          "variable": "D"
         }
        ]
       },
       "encoding": {
        "color": {
         "field": "variable",
         "type": "nominal"
        },
        "x": {
         "field": "index",
         "type": "temporal"
        },
        "y": {
         "axis": {
          "title": "Y Axis Title (units)"
         },
         "field": "value",
         "type": "quantitative"
        }
       },
       "height": 380,
       "mark": "area",
       "title": "Area Chart Example Title",
       "width": 685
      },
      "image/png": "[encoded data removed]",
      "text/plain": [
       "<VegaLite 2 object>\n",
       "\n",
       "If you see this message, it means the renderer has not been properly enabled\n",
       "for the frontend that you are using. For more information, see\n",
       "https://altair-viz.github.io/user_guide/troubleshooting.html\n"
      ]
     },
     "execution_count": 35,
     "metadata": {},
     "output_type": "execute_result"
    }
   ],
   "source": [
    "alt.Chart(time).mark_area().encode(\n",
    "    x = \"index:T\",\n",
    "    y = alt.Y('value:Q', axis = alt.Axis(title = \"Y Axis Title (units)\")),\n",
    "    color = 'variable:N'\n",
    ").properties(\n",
    "    title = \"Area Chart Example Title\"\n",
    ")"
   ]
  },
  {
   "cell_type": "code",
   "execution_count": 38,
   "metadata": {},
   "outputs": [
    {
     "data": {
      "application/vnd.vegalite.v2+json": {
       "$schema": "https://vega.github.io/schema/vega-lite/v2.6.0.json",
       "config": {
        "area": {
         "fill": "#1696d2"
        },
        "axisX": {
         "domain": true,
         "domainColor": "#000000",
         "domainWidth": 1,
         "grid": false,
         "gridColor": "#FFF",
         "labelAngle": 0,
         "labelFont": "Lato",
         "labelFontSize": 12,
         "labelPadding": 8,
         "tickColor": "#000000",
         "tickSize": 2,
         "title": "",
         "titleFont": "Lato",
         "titleFontSize": 12,
         "titlePadding": 10
        },
        "axisY": {
         "domain": false,
         "domainColor": "#000000",
         "domainWidth": 1,
         "gridColor": "#DEDDDD",
         "gridWidth": 1,
         "labelFont": "Lato",
         "labelFontSize": 12,
         "labelPadding": 8,
         "ticks": false,
         "titleAngle": 0,
         "titleFont": "Lato",
         "titleFontSize": 12,
         "titlePadding": 10,
         "titleX": 18,
         "titleY": -10
        },
        "background": "#FFF",
        "bar": {
         "binSpacing": 1,
         "continuousBandSize": 30,
         "discreteBandSize": 30,
         "fill": "#1696d2",
         "size": 40,
         "stroke": false
        },
        "legend": {
         "labelFont": "Lato",
         "labelFontSize": 12,
         "labelLimit": 500,
         "offset": 0,
         "orient": "top-left",
         "padding": 10,
         "symbolSize": 100,
         "symbolType": "square",
         "title": "",
         "titleFont": "Lato",
         "titleFontSize": 12,
         "titlePadding": 10
        },
        "line": {
         "color": "#1696d2",
         "stroke": "#1696d2",
         "strokewidth": 5
        },
        "padding": 10,
        "path": {
         "stroke": "#1696d2",
         "strokeWidth": 0.5
        },
        "point": {
         "filled": true
        },
        "range": {
         "category": [
          "#1696d2",
          "#d2d2d2",
          "#000000",
          "#fdbf11",
          "#ec008b",
          "#55b748",
          "#5c5859",
          "#db2b27"
         ],
         "diverging": [
          "#cfe8f3",
          "#a2d4ec",
          "#73bfe2",
          "#46abdb",
          "#1696d2",
          "#12719e"
         ]
        },
        "style": {
         "text": {
          "align": "right",
          "color": "#1696d2",
          "font": "Lato",
          "fontSize": 11,
          "fontWeight": 400,
          "size": 11
         }
        },
        "title": {
         "anchor": "start",
         "font": "Lato",
         "fontSize": 18,
         "fontWeight": 700,
         "offset": 0
        },
        "trail": {
         "color": "#1696d2",
         "size": 1,
         "stroke": "#1696d2",
         "strokeWidth": 0
        },
        "view": {
         "stroke": "transparent"
        }
       },
       "data": {
        "name": "data-ebc89b5481b964b179fa010f67c816c4"
       },
       "datasets": {
        "data-ebc89b5481b964b179fa010f67c816c4": [
         {
          "index": "2009-12-31T00:00:00",
          "value": 3.779664370635258,
          "variable": "A"
         },
         {
          "index": "2010-12-31T00:00:00",
          "value": 0.24713198707099146,
          "variable": "A"
         },
         {
          "index": "2011-12-31T00:00:00",
          "value": 1.7484846239829577,
          "variable": "A"
         },
         {
          "index": "2012-12-31T00:00:00",
          "value": 0.7555967287631713,
          "variable": "A"
         },
         {
          "index": "2013-12-31T00:00:00",
          "value": 0.17400467645628875,
          "variable": "A"
         },
         {
          "index": "2014-12-31T00:00:00",
          "value": 0.830574506558929,
          "variable": "A"
         },
         {
          "index": "2015-12-31T00:00:00",
          "value": 1.769996433811598,
          "variable": "A"
         },
         {
          "index": "2016-12-31T00:00:00",
          "value": 0.7158548850050597,
          "variable": "A"
         },
         {
          "index": "2017-12-31T00:00:00",
          "value": 2.311737415610313,
          "variable": "A"
         },
         {
          "index": "2018-12-31T00:00:00",
          "value": 3.55725159933237,
          "variable": "A"
         },
         {
          "index": "2019-12-31T00:00:00",
          "value": 8.064307168804536,
          "variable": "A"
         },
         {
          "index": "2020-12-31T00:00:00",
          "value": 5.869169017411609,
          "variable": "A"
         },
         {
          "index": "2021-12-31T00:00:00",
          "value": 7.400836837962748,
          "variable": "A"
         },
         {
          "index": "2022-12-31T00:00:00",
          "value": 7.650045062191015,
          "variable": "A"
         },
         {
          "index": "2023-12-31T00:00:00",
          "value": 8.937380117159282,
          "variable": "A"
         },
         {
          "index": "2024-12-31T00:00:00",
          "value": 9.387730424271638,
          "variable": "A"
         },
         {
          "index": "2025-12-31T00:00:00",
          "value": 8.777075358826464,
          "variable": "A"
         },
         {
          "index": "2026-12-31T00:00:00",
          "value": 8.215158357414316,
          "variable": "A"
         },
         {
          "index": "2027-12-31T00:00:00",
          "value": 6.925390024172167,
          "variable": "A"
         },
         {
          "index": "2028-12-31T00:00:00",
          "value": 8.37555044549079,
          "variable": "A"
         },
         {
          "index": "2029-12-31T00:00:00",
          "value": 6.548133479258096,
          "variable": "A"
         },
         {
          "index": "2009-12-31T00:00:00",
          "value": 1.426281134507876,
          "variable": "B"
         },
         {
          "index": "2010-12-31T00:00:00",
          "value": 0.5932829644614462,
          "variable": "B"
         },
         {
          "index": "2011-12-31T00:00:00",
          "value": 0.1648591220507366,
          "variable": "B"
         },
         {
          "index": "2012-12-31T00:00:00",
          "value": 1.7359285379720601,
          "variable": "B"
         },
         {
          "index": "2013-12-31T00:00:00",
          "value": 2.9564407056129163,
          "variable": "B"
         },
         {
          "index": "2014-12-31T00:00:00",
          "value": 5.097783254160113,
          "variable": "B"
         },
         {
          "index": "2015-12-31T00:00:00",
          "value": 3.572216582464642,
          "variable": "B"
         },
         {
          "index": "2016-12-31T00:00:00",
          "value": 2.1994205347908222,
          "variable": "B"
         },
         {
          "index": "2017-12-31T00:00:00",
          "value": 2.7567837724305875,
          "variable": "B"
         },
         {
          "index": "2018-12-31T00:00:00",
          "value": 3.7509018611200675,
          "variable": "B"
         },
         {
          "index": "2019-12-31T00:00:00",
          "value": 2.4977288924984467,
          "variable": "B"
         },
         {
          "index": "2020-12-31T00:00:00",
          "value": 3.8842641998563963,
          "variable": "B"
         },
         {
          "index": "2021-12-31T00:00:00",
          "value": 4.924934667267354,
          "variable": "B"
         },
         {
          "index": "2022-12-31T00:00:00",
          "value": 3.968935482548633,
          "variable": "B"
         },
         {
          "index": "2023-12-31T00:00:00",
          "value": 1.999559770346195,
          "variable": "B"
         },
         {
          "index": "2024-12-31T00:00:00",
          "value": 0.8243980502466729,
          "variable": "B"
         },
         {
          "index": "2025-12-31T00:00:00",
          "value": 1.7803907378856088,
          "variable": "B"
         },
         {
          "index": "2026-12-31T00:00:00",
          "value": 0.47286596039330914,
          "variable": "B"
         },
         {
          "index": "2027-12-31T00:00:00",
          "value": 0.7362390467777087,
          "variable": "B"
         },
         {
          "index": "2028-12-31T00:00:00",
          "value": 0.16371616690328117,
          "variable": "B"
         },
         {
          "index": "2029-12-31T00:00:00",
          "value": 0.05300534513529387,
          "variable": "B"
         },
         {
          "index": "2009-12-31T00:00:00",
          "value": 0.058726325640378246,
          "variable": "C"
         },
         {
          "index": "2010-12-31T00:00:00",
          "value": 1.1560827351837164,
          "variable": "C"
         },
         {
          "index": "2011-12-31T00:00:00",
          "value": 1.9779408455655978,
          "variable": "C"
         },
         {
          "index": "2012-12-31T00:00:00",
          "value": 4.096160107578549,
          "variable": "C"
         },
         {
          "index": "2013-12-31T00:00:00",
          "value": 3.790982945912946,
          "variable": "C"
         },
         {
          "index": "2014-12-31T00:00:00",
          "value": 3.026163123313053,
          "variable": "C"
         },
         {
          "index": "2015-12-31T00:00:00",
          "value": 4.1677424350952155,
          "variable": "C"
         },
         {
          "index": "2016-12-31T00:00:00",
          "value": 4.749684127382997,
          "variable": "C"
         },
         {
          "index": "2017-12-31T00:00:00",
          "value": 5.0191535246957315,
          "variable": "C"
         },
         {
          "index": "2018-12-31T00:00:00",
          "value": 6.409130672917636,
          "variable": "C"
         },
         {
          "index": "2019-12-31T00:00:00",
          "value": 5.602762806255105,
          "variable": "C"
         },
         {
          "index": "2020-12-31T00:00:00",
          "value": 4.537049227096096,
          "variable": "C"
         },
         {
          "index": "2021-12-31T00:00:00",
          "value": 2.79167864154654,
          "variable": "C"
         },
         {
          "index": "2022-12-31T00:00:00",
          "value": 1.8140663268206283,
          "variable": "C"
         },
         {
          "index": "2023-12-31T00:00:00",
          "value": 2.199196037690312,
          "variable": "C"
         },
         {
          "index": "2024-12-31T00:00:00",
          "value": 1.8814679577537254,
          "variable": "C"
         },
         {
          "index": "2025-12-31T00:00:00",
          "value": 2.967163345369711,
          "variable": "C"
         },
         {
          "index": "2026-12-31T00:00:00",
          "value": 3.4816458306556965,
          "variable": "C"
         },
         {
          "index": "2027-12-31T00:00:00",
          "value": 0.2438314498903722,
          "variable": "C"
         },
         {
          "index": "2028-12-31T00:00:00",
          "value": 0.7096135970212404,
          "variable": "C"
         },
         {
          "index": "2029-12-31T00:00:00",
          "value": 1.0272206392636618,
          "variable": "C"
         },
         {
          "index": "2009-12-31T00:00:00",
          "value": 1.186085864061432,
          "variable": "D"
         },
         {
          "index": "2010-12-31T00:00:00",
          "value": 1.9703812463385013,
          "variable": "D"
         },
         {
          "index": "2011-12-31T00:00:00",
          "value": 3.08725137108405,
          "variable": "D"
         },
         {
          "index": "2012-12-31T00:00:00",
          "value": 4.676896098102862,
          "variable": "D"
         },
         {
          "index": "2013-12-31T00:00:00",
          "value": 5.510746437462714,
          "variable": "D"
         },
         {
          "index": "2014-12-31T00:00:00",
          "value": 4.335861983833061,
          "variable": "D"
         },
         {
          "index": "2015-12-31T00:00:00",
          "value": 2.7278573219089006,
          "variable": "D"
         },
         {
          "index": "2016-12-31T00:00:00",
          "value": 5.489825880928917,
          "variable": "D"
         },
         {
          "index": "2017-12-31T00:00:00",
          "value": 6.073218655692202,
          "variable": "D"
         },
         {
          "index": "2018-12-31T00:00:00",
          "value": 6.547004521052559,
          "variable": "D"
         },
         {
          "index": "2019-12-31T00:00:00",
          "value": 6.791873190950623,
          "variable": "D"
         },
         {
          "index": "2020-12-31T00:00:00",
          "value": 5.169127657556956,
          "variable": "D"
         },
         {
          "index": "2021-12-31T00:00:00",
          "value": 2.9093480406909746,
          "variable": "D"
         },
         {
          "index": "2022-12-31T00:00:00",
          "value": 2.2963720851266562,
          "variable": "D"
         },
         {
          "index": "2023-12-31T00:00:00",
          "value": 3.019447937475653,
          "variable": "D"
         },
         {
          "index": "2024-12-31T00:00:00",
          "value": 5.307390730935879,
          "variable": "D"
         },
         {
          "index": "2025-12-31T00:00:00",
          "value": 4.655629186440328,
          "variable": "D"
         },
         {
          "index": "2026-12-31T00:00:00",
          "value": 2.9881429529239485,
          "variable": "D"
         },
         {
          "index": "2027-12-31T00:00:00",
          "value": 2.5057502094291895,
          "variable": "D"
         },
         {
          "index": "2028-12-31T00:00:00",
          "value": 0.8972067766720069,
          "variable": "D"
         },
         {
          "index": "2029-12-31T00:00:00",
          "value": 0.4087654970341372,
          "variable": "D"
         }
        ]
       },
       "encoding": {
        "color": {
         "field": "variable",
         "type": "ordinal"
        },
        "x": {
         "field": "index",
         "type": "temporal"
        },
        "y": {
         "axis": {
          "title": "Y Axis Title (units)"
         },
         "field": "value",
         "type": "quantitative"
        }
       },
       "height": 380,
       "mark": "area",
       "title": "(Sequential-palette) Area Chart Example Title",
       "width": 685
      },
      "image/png": "[encoded data removed]",
      "text/plain": [
       "<VegaLite 2 object>\n",
       "\n",
       "If you see this message, it means the renderer has not been properly enabled\n",
       "for the frontend that you are using. For more information, see\n",
       "https://altair-viz.github.io/user_guide/troubleshooting.html\n"
      ]
     },
     "execution_count": 38,
     "metadata": {},
     "output_type": "execute_result"
    }
   ],
   "source": [
    "alt.Chart(time).mark_area().encode(\n",
    "    x = \"index:T\",\n",
    "    y = alt.Y('value:Q', axis = alt.Axis(title = \"Y Axis Title (units)\")),\n",
    "    color = 'variable:O'\n",
    ").properties(\n",
    "    title = \"(Sequential-palette) Area Chart Example Title\"\n",
    ")"
   ]
  },
  {
   "cell_type": "code",
   "execution_count": null,
   "metadata": {},
   "outputs": [],
   "source": []
  }
 ],
 "metadata": {
  "kernelspec": {
   "display_name": "Python 3",
   "language": "python",
   "name": "python3"
  },
  "language_info": {
   "codemirror_mode": {
    "name": "ipython",
    "version": 3
   },
   "file_extension": ".py",
   "mimetype": "text/x-python",
   "name": "python",
   "nbconvert_exporter": "python",
   "pygments_lexer": "ipython3",
   "version": "3.6.3"
  }
 },
 "nbformat": 4,
 "nbformat_minor": 2
}
