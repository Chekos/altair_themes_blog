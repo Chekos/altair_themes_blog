{
 "cells": [
  {
   "cell_type": "code",
   "execution_count": 1,
   "metadata": {},
   "outputs": [],
   "source": [
    "import pandas.util.testing as tm\n",
    "import pandas as pd"
   ]
  },
  {
   "cell_type": "code",
   "execution_count": 9,
   "metadata": {},
   "outputs": [
    {
     "data": {
      "text/html": [
       "<div>\n",
       "<style scoped>\n",
       "    .dataframe tbody tr th:only-of-type {\n",
       "        vertical-align: middle;\n",
       "    }\n",
       "\n",
       "    .dataframe tbody tr th {\n",
       "        vertical-align: top;\n",
       "    }\n",
       "\n",
       "    .dataframe thead th {\n",
       "        text-align: right;\n",
       "    }\n",
       "</style>\n",
       "<table border=\"1\" class=\"dataframe\">\n",
       "  <thead>\n",
       "    <tr style=\"text-align: right;\">\n",
       "      <th></th>\n",
       "      <th>A</th>\n",
       "      <th>B</th>\n",
       "      <th>C</th>\n",
       "      <th>D</th>\n",
       "    </tr>\n",
       "  </thead>\n",
       "  <tbody>\n",
       "    <tr>\n",
       "      <th>dGeUbEyP1W</th>\n",
       "      <td>-0.461027</td>\n",
       "      <td>-0.177949</td>\n",
       "      <td>-1.303511</td>\n",
       "      <td>-0.104785</td>\n",
       "    </tr>\n",
       "    <tr>\n",
       "      <th>EfJyRroeB0</th>\n",
       "      <td>-0.636734</td>\n",
       "      <td>-0.191258</td>\n",
       "      <td>0.367253</td>\n",
       "      <td>-1.051841</td>\n",
       "    </tr>\n",
       "    <tr>\n",
       "      <th>ICQMisBTWs</th>\n",
       "      <td>0.877412</td>\n",
       "      <td>1.287071</td>\n",
       "      <td>0.154317</td>\n",
       "      <td>-0.064700</td>\n",
       "    </tr>\n",
       "    <tr>\n",
       "      <th>mfD0zMRObm</th>\n",
       "      <td>0.038259</td>\n",
       "      <td>-0.512569</td>\n",
       "      <td>-0.120507</td>\n",
       "      <td>-0.873617</td>\n",
       "    </tr>\n",
       "    <tr>\n",
       "      <th>o7VRpUxooa</th>\n",
       "      <td>0.165342</td>\n",
       "      <td>0.448131</td>\n",
       "      <td>-1.001285</td>\n",
       "      <td>0.318463</td>\n",
       "    </tr>\n",
       "  </tbody>\n",
       "</table>\n",
       "</div>"
      ],
      "text/plain": [
       "                   A         B         C         D\n",
       "dGeUbEyP1W -0.461027 -0.177949 -1.303511 -0.104785\n",
       "EfJyRroeB0 -0.636734 -0.191258  0.367253 -1.051841\n",
       "ICQMisBTWs  0.877412  1.287071  0.154317 -0.064700\n",
       "mfD0zMRObm  0.038259 -0.512569 -0.120507 -0.873617\n",
       "o7VRpUxooa  0.165342  0.448131 -1.001285  0.318463"
      ]
     },
     "execution_count": 9,
     "metadata": {},
     "output_type": "execute_result"
    }
   ],
   "source": [
    "df = tm.makeDataFrame()\n",
    "\n",
    "df.head()"
   ]
  },
  {
   "cell_type": "code",
   "execution_count": 10,
   "metadata": {},
   "outputs": [],
   "source": [
    "df = df.melt()"
   ]
  },
  {
   "cell_type": "code",
   "execution_count": 4,
   "metadata": {},
   "outputs": [],
   "source": [
    "import altair as alt"
   ]
  },
  {
   "cell_type": "code",
   "execution_count": 12,
   "metadata": {},
   "outputs": [
    {
     "data": {
      "application/vnd.vegalite.v2+json": {
       "$schema": "https://vega.github.io/schema/vega-lite/v2.6.0.json",
       "config": {
        "view": {
         "height": 300,
         "width": 400
        }
       },
       "data": {
        "name": "data-efb252e7c57bdc7da8542a41b9a92119"
       },
       "datasets": {
        "data-efb252e7c57bdc7da8542a41b9a92119": [
         {
          "value": -0.4610270322439197,
          "variable": "A"
         },
         {
          "value": -0.6367343500532895,
          "variable": "A"
         },
         {
          "value": 0.8774120795620142,
          "variable": "A"
         },
         {
          "value": 0.03825863022523785,
          "variable": "A"
         },
         {
          "value": 0.16534228478558757,
          "variable": "A"
         },
         {
          "value": -1.2817002072378272,
          "variable": "A"
         },
         {
          "value": -1.085245037265318,
          "variable": "A"
         },
         {
          "value": -0.27755227699130036,
          "variable": "A"
         },
         {
          "value": 1.3989583501573215,
          "variable": "A"
         },
         {
          "value": 0.19046818945796665,
          "variable": "A"
         },
         {
          "value": 0.19428312561992822,
          "variable": "A"
         },
         {
          "value": -0.5676233531129963,
          "variable": "A"
         },
         {
          "value": 0.500890590982962,
          "variable": "A"
         },
         {
          "value": -1.3855716484122758,
          "variable": "A"
         },
         {
          "value": -1.2546423680851004,
          "variable": "A"
         },
         {
          "value": -0.3357912900788574,
          "variable": "A"
         },
         {
          "value": -0.2205733984715034,
          "variable": "A"
         },
         {
          "value": -0.38340036433532537,
          "variable": "A"
         },
         {
          "value": 0.6614906436722245,
          "variable": "A"
         },
         {
          "value": -0.16313042252515567,
          "variable": "A"
         },
         {
          "value": -0.0247512080682622,
          "variable": "A"
         },
         {
          "value": 0.4582047341126467,
          "variable": "A"
         },
         {
          "value": 0.7640931522868072,
          "variable": "A"
         },
         {
          "value": 0.13934191383325467,
          "variable": "A"
         },
         {
          "value": -2.595368819795762,
          "variable": "A"
         },
         {
          "value": 1.1469702483563833,
          "variable": "A"
         },
         {
          "value": 0.1569965665258978,
          "variable": "A"
         },
         {
          "value": 1.2727001883205376,
          "variable": "A"
         },
         {
          "value": 1.022066496022976,
          "variable": "A"
         },
         {
          "value": 1.9412742747244585,
          "variable": "A"
         },
         {
          "value": -0.17794910128507585,
          "variable": "B"
         },
         {
          "value": -0.19125848427380304,
          "variable": "B"
         },
         {
          "value": 1.2870713074028026,
          "variable": "B"
         },
         {
          "value": -0.5125688683310612,
          "variable": "B"
         },
         {
          "value": 0.4481312599603682,
          "variable": "B"
         },
         {
          "value": 0.6524434972811275,
          "variable": "B"
         },
         {
          "value": 0.13585646332755005,
          "variable": "B"
         },
         {
          "value": 0.7553857040236626,
          "variable": "B"
         },
         {
          "value": -2.1056619465687616,
          "variable": "B"
         },
         {
          "value": -0.9536315716472301,
          "variable": "B"
         },
         {
          "value": -0.7169477714702117,
          "variable": "B"
         },
         {
          "value": 0.41664317515130195,
          "variable": "B"
         },
         {
          "value": -1.457125154898018,
          "variable": "B"
         },
         {
          "value": -0.5404389535609037,
          "variable": "B"
         },
         {
          "value": 0.4441621019182134,
          "variable": "B"
         },
         {
          "value": 0.6856720785530876,
          "variable": "B"
         },
         {
          "value": -0.4275324669827531,
          "variable": "B"
         },
         {
          "value": -0.15047880675178543,
          "variable": "B"
         },
         {
          "value": 0.7518239402290684,
          "variable": "B"
         },
         {
          "value": 0.10398054362137754,
          "variable": "B"
         },
         {
          "value": 0.12138507068140678,
          "variable": "B"
         },
         {
          "value": -0.8323046513564163,
          "variable": "B"
         },
         {
          "value": 0.4984733821697992,
          "variable": "B"
         },
         {
          "value": -0.7088761396238055,
          "variable": "B"
         },
         {
          "value": 0.9943449751503719,
          "variable": "B"
         },
         {
          "value": -1.7586532120383742,
          "variable": "B"
         },
         {
          "value": -0.6607685905194645,
          "variable": "B"
         },
         {
          "value": -0.024288387357977486,
          "variable": "B"
         },
         {
          "value": 0.050276850655552104,
          "variable": "B"
         },
         {
          "value": -0.7038782427342452,
          "variable": "B"
         },
         {
          "value": -1.303511032553364,
          "variable": "C"
         },
         {
          "value": 0.3672528437509079,
          "variable": "C"
         },
         {
          "value": 0.15431746576611127,
          "variable": "C"
         },
         {
          "value": -0.12050701912087032,
          "variable": "C"
         },
         {
          "value": -1.001284933212565,
          "variable": "C"
         },
         {
          "value": -0.2540785646235349,
          "variable": "C"
         },
         {
          "value": -0.4228158652442165,
          "variable": "C"
         },
         {
          "value": -0.27639931019436637,
          "variable": "C"
         },
         {
          "value": 0.7386595693388794,
          "variable": "C"
         },
         {
          "value": -0.17027595679665597,
          "variable": "C"
         },
         {
          "value": 1.7070936875500302,
          "variable": "C"
         },
         {
          "value": 0.6069723319741929,
          "variable": "C"
         },
         {
          "value": 1.0270365962403802,
          "variable": "C"
         },
         {
          "value": 0.46758760907703006,
          "variable": "C"
         },
         {
          "value": 0.6415122037432663,
          "variable": "C"
         },
         {
          "value": 0.41766557380695013,
          "variable": "C"
         },
         {
          "value": 1.2868813156207748,
          "variable": "C"
         },
         {
          "value": -1.0361781587260608,
          "variable": "C"
         },
         {
          "value": -1.9501744425748684,
          "variable": "C"
         },
         {
          "value": -1.5928820139123978,
          "variable": "C"
         },
         {
          "value": 0.6704357409608932,
          "variable": "C"
         },
         {
          "value": -2.4463859104477996,
          "variable": "C"
         },
         {
          "value": -1.0543874494218193,
          "variable": "C"
         },
         {
          "value": -0.795732408142419,
          "variable": "C"
         },
         {
          "value": 1.2816163963081522,
          "variable": "C"
         },
         {
          "value": -0.5406420949076187,
          "variable": "C"
         },
         {
          "value": -0.2619083589268465,
          "variable": "C"
         },
         {
          "value": 0.4286405470799978,
          "variable": "C"
         },
         {
          "value": -1.8172257984960618,
          "variable": "C"
         },
         {
          "value": 0.13706777478429144,
          "variable": "C"
         },
         {
          "value": -0.10478529407365901,
          "variable": "D"
         },
         {
          "value": -1.051841237172554,
          "variable": "D"
         },
         {
          "value": -0.06470035542158659,
          "variable": "D"
         },
         {
          "value": -0.8736172744954797,
          "variable": "D"
         },
         {
          "value": 0.31846277878321944,
          "variable": "D"
         },
         {
          "value": 0.6776674959069814,
          "variable": "D"
         },
         {
          "value": 0.47032013560452635,
          "variable": "D"
         },
         {
          "value": 0.5203263914878267,
          "variable": "D"
         },
         {
          "value": -2.1171241240093925,
          "variable": "D"
         },
         {
          "value": 0.7675097663726791,
          "variable": "D"
         },
         {
          "value": 1.2069713544014675,
          "variable": "D"
         },
         {
          "value": -1.6704803693691532,
          "variable": "D"
         },
         {
          "value": 0.9805373629100806,
          "variable": "D"
         },
         {
          "value": 0.6477843669847971,
          "variable": "D"
         },
         {
          "value": -1.1035182772974017,
          "variable": "D"
         },
         {
          "value": 1.1072729284383653,
          "variable": "D"
         },
         {
          "value": -0.1365756040215114,
          "variable": "D"
         },
         {
          "value": -1.019079604234089,
          "variable": "D"
         },
         {
          "value": -0.870274743982925,
          "variable": "D"
         },
         {
          "value": 0.23746890972001847,
          "variable": "D"
         },
         {
          "value": 0.2507531542609818,
          "variable": "D"
         },
         {
          "value": 0.5360813826240799,
          "variable": "D"
         },
         {
          "value": -1.2879296527634119,
          "variable": "D"
         },
         {
          "value": -0.03261748506034418,
          "variable": "D"
         },
         {
          "value": 0.6480358361631877,
          "variable": "D"
         },
         {
          "value": 0.9183735174873154,
          "variable": "D"
         },
         {
          "value": -1.2900494712547064,
          "variable": "D"
         },
         {
          "value": -1.8242065346117304,
          "variable": "D"
         },
         {
          "value": -1.4123442845199492,
          "variable": "D"
         },
         {
          "value": -2.9727260876991863,
          "variable": "D"
         }
        ]
       },
       "encoding": {
        "x": {
         "field": "variable",
         "type": "nominal"
        },
        "y": {
         "aggregate": "mean",
         "field": "value",
         "type": "quantitative"
        }
       },
       "mark": "bar"
      },
      "image/png": "[encoded data removed]",
      "text/plain": [
       "<VegaLite 2 object>\n",
       "\n",
       "If you see this message, it means the renderer has not been properly enabled\n",
       "for the frontend that you are using. For more information, see\n",
       "https://altair-viz.github.io/user_guide/troubleshooting.html\n"
      ]
     },
     "execution_count": 12,
     "metadata": {},
     "output_type": "execute_result"
    }
   ],
   "source": [
    "chart = alt.Chart(df).mark_bar().encode(\n",
    "    x = \"variable:N\",\n",
    "    y = \"mean(value):Q\",\n",
    ")\n",
    "chart"
   ]
  },
  {
   "cell_type": "code",
   "execution_count": 13,
   "metadata": {},
   "outputs": [
    {
     "data": {
      "application/vnd.vegalite.v2+json": {
       "$schema": "https://vega.github.io/schema/vega-lite/v2.6.0.json",
       "config": {
        "arc": {
         "fill": "#4572a7"
        },
        "area": {
         "fill": "#4572a7"
        },
        "axis": {
         "bandPosition": 0.5,
         "grid": true,
         "gridColor": "#000000",
         "gridOpacity": 1,
         "gridWidth": 0.5,
         "labelPadding": 10,
         "tickSize": 5,
         "tickWidth": 0.5
        },
        "axisBand": {
         "grid": false,
         "tickExtra": true
        },
        "background": "#fff",
        "legend": {
         "labelBaseline": "middle",
         "labelFontSize": 11,
         "symbolSize": 50,
         "symbolType": "square"
        },
        "line": {
         "stroke": "#4572a7",
         "strokeWidth": 2
        },
        "path": {
         "stroke": "#4572a7"
        },
        "range": {
         "category": [
          "#4572a7",
          "#aa4643",
          "#8aa453",
          "#71598e",
          "#4598ae",
          "#d98445",
          "#94aace",
          "#d09393",
          "#b9cc98",
          "#a99cbc"
         ]
        },
        "rect": {
         "fill": "#4572a7"
        },
        "shape": {
         "stroke": "#4572a7"
        },
        "symbol": {
         "fill": "#4572a7",
         "size": 50,
         "strokeWidth": 1.5
        }
       },
       "data": {
        "name": "data-efb252e7c57bdc7da8542a41b9a92119"
       },
       "datasets": {
        "data-efb252e7c57bdc7da8542a41b9a92119": [
         {
          "value": -0.4610270322439197,
          "variable": "A"
         },
         {
          "value": -0.6367343500532895,
          "variable": "A"
         },
         {
          "value": 0.8774120795620142,
          "variable": "A"
         },
         {
          "value": 0.03825863022523785,
          "variable": "A"
         },
         {
          "value": 0.16534228478558757,
          "variable": "A"
         },
         {
          "value": -1.2817002072378272,
          "variable": "A"
         },
         {
          "value": -1.085245037265318,
          "variable": "A"
         },
         {
          "value": -0.27755227699130036,
          "variable": "A"
         },
         {
          "value": 1.3989583501573215,
          "variable": "A"
         },
         {
          "value": 0.19046818945796665,
          "variable": "A"
         },
         {
          "value": 0.19428312561992822,
          "variable": "A"
         },
         {
          "value": -0.5676233531129963,
          "variable": "A"
         },
         {
          "value": 0.500890590982962,
          "variable": "A"
         },
         {
          "value": -1.3855716484122758,
          "variable": "A"
         },
         {
          "value": -1.2546423680851004,
          "variable": "A"
         },
         {
          "value": -0.3357912900788574,
          "variable": "A"
         },
         {
          "value": -0.2205733984715034,
          "variable": "A"
         },
         {
          "value": -0.38340036433532537,
          "variable": "A"
         },
         {
          "value": 0.6614906436722245,
          "variable": "A"
         },
         {
          "value": -0.16313042252515567,
          "variable": "A"
         },
         {
          "value": -0.0247512080682622,
          "variable": "A"
         },
         {
          "value": 0.4582047341126467,
          "variable": "A"
         },
         {
          "value": 0.7640931522868072,
          "variable": "A"
         },
         {
          "value": 0.13934191383325467,
          "variable": "A"
         },
         {
          "value": -2.595368819795762,
          "variable": "A"
         },
         {
          "value": 1.1469702483563833,
          "variable": "A"
         },
         {
          "value": 0.1569965665258978,
          "variable": "A"
         },
         {
          "value": 1.2727001883205376,
          "variable": "A"
         },
         {
          "value": 1.022066496022976,
          "variable": "A"
         },
         {
          "value": 1.9412742747244585,
          "variable": "A"
         },
         {
          "value": -0.17794910128507585,
          "variable": "B"
         },
         {
          "value": -0.19125848427380304,
          "variable": "B"
         },
         {
          "value": 1.2870713074028026,
          "variable": "B"
         },
         {
          "value": -0.5125688683310612,
          "variable": "B"
         },
         {
          "value": 0.4481312599603682,
          "variable": "B"
         },
         {
          "value": 0.6524434972811275,
          "variable": "B"
         },
         {
          "value": 0.13585646332755005,
          "variable": "B"
         },
         {
          "value": 0.7553857040236626,
          "variable": "B"
         },
         {
          "value": -2.1056619465687616,
          "variable": "B"
         },
         {
          "value": -0.9536315716472301,
          "variable": "B"
         },
         {
          "value": -0.7169477714702117,
          "variable": "B"
         },
         {
          "value": 0.41664317515130195,
          "variable": "B"
         },
         {
          "value": -1.457125154898018,
          "variable": "B"
         },
         {
          "value": -0.5404389535609037,
          "variable": "B"
         },
         {
          "value": 0.4441621019182134,
          "variable": "B"
         },
         {
          "value": 0.6856720785530876,
          "variable": "B"
         },
         {
          "value": -0.4275324669827531,
          "variable": "B"
         },
         {
          "value": -0.15047880675178543,
          "variable": "B"
         },
         {
          "value": 0.7518239402290684,
          "variable": "B"
         },
         {
          "value": 0.10398054362137754,
          "variable": "B"
         },
         {
          "value": 0.12138507068140678,
          "variable": "B"
         },
         {
          "value": -0.8323046513564163,
          "variable": "B"
         },
         {
          "value": 0.4984733821697992,
          "variable": "B"
         },
         {
          "value": -0.7088761396238055,
          "variable": "B"
         },
         {
          "value": 0.9943449751503719,
          "variable": "B"
         },
         {
          "value": -1.7586532120383742,
          "variable": "B"
         },
         {
          "value": -0.6607685905194645,
          "variable": "B"
         },
         {
          "value": -0.024288387357977486,
          "variable": "B"
         },
         {
          "value": 0.050276850655552104,
          "variable": "B"
         },
         {
          "value": -0.7038782427342452,
          "variable": "B"
         },
         {
          "value": -1.303511032553364,
          "variable": "C"
         },
         {
          "value": 0.3672528437509079,
          "variable": "C"
         },
         {
          "value": 0.15431746576611127,
          "variable": "C"
         },
         {
          "value": -0.12050701912087032,
          "variable": "C"
         },
         {
          "value": -1.001284933212565,
          "variable": "C"
         },
         {
          "value": -0.2540785646235349,
          "variable": "C"
         },
         {
          "value": -0.4228158652442165,
          "variable": "C"
         },
         {
          "value": -0.27639931019436637,
          "variable": "C"
         },
         {
          "value": 0.7386595693388794,
          "variable": "C"
         },
         {
          "value": -0.17027595679665597,
          "variable": "C"
         },
         {
          "value": 1.7070936875500302,
          "variable": "C"
         },
         {
          "value": 0.6069723319741929,
          "variable": "C"
         },
         {
          "value": 1.0270365962403802,
          "variable": "C"
         },
         {
          "value": 0.46758760907703006,
          "variable": "C"
         },
         {
          "value": 0.6415122037432663,
          "variable": "C"
         },
         {
          "value": 0.41766557380695013,
          "variable": "C"
         },
         {
          "value": 1.2868813156207748,
          "variable": "C"
         },
         {
          "value": -1.0361781587260608,
          "variable": "C"
         },
         {
          "value": -1.9501744425748684,
          "variable": "C"
         },
         {
          "value": -1.5928820139123978,
          "variable": "C"
         },
         {
          "value": 0.6704357409608932,
          "variable": "C"
         },
         {
          "value": -2.4463859104477996,
          "variable": "C"
         },
         {
          "value": -1.0543874494218193,
          "variable": "C"
         },
         {
          "value": -0.795732408142419,
          "variable": "C"
         },
         {
          "value": 1.2816163963081522,
          "variable": "C"
         },
         {
          "value": -0.5406420949076187,
          "variable": "C"
         },
         {
          "value": -0.2619083589268465,
          "variable": "C"
         },
         {
          "value": 0.4286405470799978,
          "variable": "C"
         },
         {
          "value": -1.8172257984960618,
          "variable": "C"
         },
         {
          "value": 0.13706777478429144,
          "variable": "C"
         },
         {
          "value": -0.10478529407365901,
          "variable": "D"
         },
         {
          "value": -1.051841237172554,
          "variable": "D"
         },
         {
          "value": -0.06470035542158659,
          "variable": "D"
         },
         {
          "value": -0.8736172744954797,
          "variable": "D"
         },
         {
          "value": 0.31846277878321944,
          "variable": "D"
         },
         {
          "value": 0.6776674959069814,
          "variable": "D"
         },
         {
          "value": 0.47032013560452635,
          "variable": "D"
         },
         {
          "value": 0.5203263914878267,
          "variable": "D"
         },
         {
          "value": -2.1171241240093925,
          "variable": "D"
         },
         {
          "value": 0.7675097663726791,
          "variable": "D"
         },
         {
          "value": 1.2069713544014675,
          "variable": "D"
         },
         {
          "value": -1.6704803693691532,
          "variable": "D"
         },
         {
          "value": 0.9805373629100806,
          "variable": "D"
         },
         {
          "value": 0.6477843669847971,
          "variable": "D"
         },
         {
          "value": -1.1035182772974017,
          "variable": "D"
         },
         {
          "value": 1.1072729284383653,
          "variable": "D"
         },
         {
          "value": -0.1365756040215114,
          "variable": "D"
         },
         {
          "value": -1.019079604234089,
          "variable": "D"
         },
         {
          "value": -0.870274743982925,
          "variable": "D"
         },
         {
          "value": 0.23746890972001847,
          "variable": "D"
         },
         {
          "value": 0.2507531542609818,
          "variable": "D"
         },
         {
          "value": 0.5360813826240799,
          "variable": "D"
         },
         {
          "value": -1.2879296527634119,
          "variable": "D"
         },
         {
          "value": -0.03261748506034418,
          "variable": "D"
         },
         {
          "value": 0.6480358361631877,
          "variable": "D"
         },
         {
          "value": 0.9183735174873154,
          "variable": "D"
         },
         {
          "value": -1.2900494712547064,
          "variable": "D"
         },
         {
          "value": -1.8242065346117304,
          "variable": "D"
         },
         {
          "value": -1.4123442845199492,
          "variable": "D"
         },
         {
          "value": -2.9727260876991863,
          "variable": "D"
         }
        ]
       },
       "encoding": {
        "x": {
         "field": "variable",
         "type": "nominal"
        },
        "y": {
         "aggregate": "mean",
         "field": "value",
         "type": "quantitative"
        }
       },
       "mark": "bar"
      },
      "image/png": "[encoded data removed]",
      "text/plain": [
       "<VegaLite 2 object>\n",
       "\n",
       "If you see this message, it means the renderer has not been properly enabled\n",
       "for the frontend that you are using. For more information, see\n",
       "https://altair-viz.github.io/user_guide/troubleshooting.html\n"
      ]
     },
     "execution_count": 13,
     "metadata": {},
     "output_type": "execute_result"
    }
   ],
   "source": [
    "%run excel_theme.py\n",
    "chart"
   ]
  },
  {
   "cell_type": "code",
   "execution_count": 14,
   "metadata": {},
   "outputs": [
    {
     "data": {
      "application/vnd.vegalite.v2+json": {
       "$schema": "https://vega.github.io/schema/vega-lite/v2.6.0.json",
       "config": {
        "arc": {
         "fill": "#30a2da"
        },
        "area": {
         "fill": "#30a2da"
        },
        "axisBand": {
         "grid": false
        },
        "axisBottom": {
         "domain": false,
         "domainColor": "black",
         "domainWidth": 3,
         "grid": true,
         "gridColor": "#cbcbcb",
         "gridWidth": 1,
         "labelFontSize": 12,
         "labelPadding": 4,
         "tickColor": "#cbcbcb",
         "tickSize": 10,
         "titleFontSize": 14,
         "titlePadding": 10
        },
        "axisLeft": {
         "domainColor": "#cbcbcb",
         "domainWidth": 1,
         "gridColor": "#cbcbcb",
         "gridWidth": 1,
         "labelFontSize": 12,
         "labelPadding": 4,
         "tickColor": "#cbcbcb",
         "tickSize": 10,
         "ticks": true,
         "titleFontSize": 14,
         "titlePadding": 10
        },
        "axisRight": {
         "domainColor": "#cbcbcb",
         "domainWidth": 1,
         "gridColor": "#cbcbcb",
         "gridWidth": 1,
         "labelFontSize": 12,
         "labelPadding": 4,
         "tickColor": "#cbcbcb",
         "tickSize": 10,
         "ticks": true,
         "titleFontSize": 14,
         "titlePadding": 10
        },
        "axisTop": {
         "domain": false,
         "domainColor": "black",
         "domainWidth": 3,
         "grid": true,
         "gridColor": "#cbcbcb",
         "gridWidth": 1,
         "labelFontSize": 12,
         "labelPadding": 4,
         "tickColor": "#cbcbcb",
         "tickSize": 10,
         "titleFontSize": 14,
         "titlePadding": 10
        },
        "background": "#f0f0f0",
        "group": {
         "fill": "#f0f0f0"
        },
        "legend": {
         "labelFontSize": 11,
         "padding": 1,
         "symbolSize": 30,
         "symbolType": "square",
         "titleFontSize": 14,
         "titlePadding": 10
        },
        "line": {
         "stroke": "#30a2da",
         "strokeWidth": 2
        },
        "path": {
         "stroke": "#30a2da",
         "strokeWidth": 0.5
        },
        "point": {
         "filled": true
        },
        "range": {
         "category": [
          "#30a2da",
          "#fc4f30",
          "#e5ae38",
          "#6d904f",
          "#8b8b8b",
          "#b96db8",
          "#ff9e27",
          "#56cc60",
          "#52d2ca",
          "#52689e",
          "#545454",
          "#9fe4f8"
         ],
         "diverging": [
          "#cc0020",
          "#e77866",
          "#f6e7e1",
          "#d6e8ed",
          "#91bfd9",
          "#1d78b5"
         ],
         "heatmap": [
          "#d6e8ed",
          "#cee0e5",
          "#91bfd9",
          "#549cc6",
          "#1d78b5"
         ]
        },
        "rect": {
         "fill": "#30a2da"
        },
        "shape": {
         "stroke": "#30a2da"
        },
        "style": {
         "bar": {
          "binSpacing": 2,
          "fill": "#30a2da",
          "stroke": null
         }
        },
        "symbol": {
         "opacity": 1,
         "shape": "circle",
         "size": 40,
         "strokeWidth": 1
        },
        "title": {
         "anchor": "start",
         "fontSize": 24,
         "fontWeight": 600,
         "offset": 20
        }
       },
       "data": {
        "name": "data-efb252e7c57bdc7da8542a41b9a92119"
       },
       "datasets": {
        "data-efb252e7c57bdc7da8542a41b9a92119": [
         {
          "value": -0.4610270322439197,
          "variable": "A"
         },
         {
          "value": -0.6367343500532895,
          "variable": "A"
         },
         {
          "value": 0.8774120795620142,
          "variable": "A"
         },
         {
          "value": 0.03825863022523785,
          "variable": "A"
         },
         {
          "value": 0.16534228478558757,
          "variable": "A"
         },
         {
          "value": -1.2817002072378272,
          "variable": "A"
         },
         {
          "value": -1.085245037265318,
          "variable": "A"
         },
         {
          "value": -0.27755227699130036,
          "variable": "A"
         },
         {
          "value": 1.3989583501573215,
          "variable": "A"
         },
         {
          "value": 0.19046818945796665,
          "variable": "A"
         },
         {
          "value": 0.19428312561992822,
          "variable": "A"
         },
         {
          "value": -0.5676233531129963,
          "variable": "A"
         },
         {
          "value": 0.500890590982962,
          "variable": "A"
         },
         {
          "value": -1.3855716484122758,
          "variable": "A"
         },
         {
          "value": -1.2546423680851004,
          "variable": "A"
         },
         {
          "value": -0.3357912900788574,
          "variable": "A"
         },
         {
          "value": -0.2205733984715034,
          "variable": "A"
         },
         {
          "value": -0.38340036433532537,
          "variable": "A"
         },
         {
          "value": 0.6614906436722245,
          "variable": "A"
         },
         {
          "value": -0.16313042252515567,
          "variable": "A"
         },
         {
          "value": -0.0247512080682622,
          "variable": "A"
         },
         {
          "value": 0.4582047341126467,
          "variable": "A"
         },
         {
          "value": 0.7640931522868072,
          "variable": "A"
         },
         {
          "value": 0.13934191383325467,
          "variable": "A"
         },
         {
          "value": -2.595368819795762,
          "variable": "A"
         },
         {
          "value": 1.1469702483563833,
          "variable": "A"
         },
         {
          "value": 0.1569965665258978,
          "variable": "A"
         },
         {
          "value": 1.2727001883205376,
          "variable": "A"
         },
         {
          "value": 1.022066496022976,
          "variable": "A"
         },
         {
          "value": 1.9412742747244585,
          "variable": "A"
         },
         {
          "value": -0.17794910128507585,
          "variable": "B"
         },
         {
          "value": -0.19125848427380304,
          "variable": "B"
         },
         {
          "value": 1.2870713074028026,
          "variable": "B"
         },
         {
          "value": -0.5125688683310612,
          "variable": "B"
         },
         {
          "value": 0.4481312599603682,
          "variable": "B"
         },
         {
          "value": 0.6524434972811275,
          "variable": "B"
         },
         {
          "value": 0.13585646332755005,
          "variable": "B"
         },
         {
          "value": 0.7553857040236626,
          "variable": "B"
         },
         {
          "value": -2.1056619465687616,
          "variable": "B"
         },
         {
          "value": -0.9536315716472301,
          "variable": "B"
         },
         {
          "value": -0.7169477714702117,
          "variable": "B"
         },
         {
          "value": 0.41664317515130195,
          "variable": "B"
         },
         {
          "value": -1.457125154898018,
          "variable": "B"
         },
         {
          "value": -0.5404389535609037,
          "variable": "B"
         },
         {
          "value": 0.4441621019182134,
          "variable": "B"
         },
         {
          "value": 0.6856720785530876,
          "variable": "B"
         },
         {
          "value": -0.4275324669827531,
          "variable": "B"
         },
         {
          "value": -0.15047880675178543,
          "variable": "B"
         },
         {
          "value": 0.7518239402290684,
          "variable": "B"
         },
         {
          "value": 0.10398054362137754,
          "variable": "B"
         },
         {
          "value": 0.12138507068140678,
          "variable": "B"
         },
         {
          "value": -0.8323046513564163,
          "variable": "B"
         },
         {
          "value": 0.4984733821697992,
          "variable": "B"
         },
         {
          "value": -0.7088761396238055,
          "variable": "B"
         },
         {
          "value": 0.9943449751503719,
          "variable": "B"
         },
         {
          "value": -1.7586532120383742,
          "variable": "B"
         },
         {
          "value": -0.6607685905194645,
          "variable": "B"
         },
         {
          "value": -0.024288387357977486,
          "variable": "B"
         },
         {
          "value": 0.050276850655552104,
          "variable": "B"
         },
         {
          "value": -0.7038782427342452,
          "variable": "B"
         },
         {
          "value": -1.303511032553364,
          "variable": "C"
         },
         {
          "value": 0.3672528437509079,
          "variable": "C"
         },
         {
          "value": 0.15431746576611127,
          "variable": "C"
         },
         {
          "value": -0.12050701912087032,
          "variable": "C"
         },
         {
          "value": -1.001284933212565,
          "variable": "C"
         },
         {
          "value": -0.2540785646235349,
          "variable": "C"
         },
         {
          "value": -0.4228158652442165,
          "variable": "C"
         },
         {
          "value": -0.27639931019436637,
          "variable": "C"
         },
         {
          "value": 0.7386595693388794,
          "variable": "C"
         },
         {
          "value": -0.17027595679665597,
          "variable": "C"
         },
         {
          "value": 1.7070936875500302,
          "variable": "C"
         },
         {
          "value": 0.6069723319741929,
          "variable": "C"
         },
         {
          "value": 1.0270365962403802,
          "variable": "C"
         },
         {
          "value": 0.46758760907703006,
          "variable": "C"
         },
         {
          "value": 0.6415122037432663,
          "variable": "C"
         },
         {
          "value": 0.41766557380695013,
          "variable": "C"
         },
         {
          "value": 1.2868813156207748,
          "variable": "C"
         },
         {
          "value": -1.0361781587260608,
          "variable": "C"
         },
         {
          "value": -1.9501744425748684,
          "variable": "C"
         },
         {
          "value": -1.5928820139123978,
          "variable": "C"
         },
         {
          "value": 0.6704357409608932,
          "variable": "C"
         },
         {
          "value": -2.4463859104477996,
          "variable": "C"
         },
         {
          "value": -1.0543874494218193,
          "variable": "C"
         },
         {
          "value": -0.795732408142419,
          "variable": "C"
         },
         {
          "value": 1.2816163963081522,
          "variable": "C"
         },
         {
          "value": -0.5406420949076187,
          "variable": "C"
         },
         {
          "value": -0.2619083589268465,
          "variable": "C"
         },
         {
          "value": 0.4286405470799978,
          "variable": "C"
         },
         {
          "value": -1.8172257984960618,
          "variable": "C"
         },
         {
          "value": 0.13706777478429144,
          "variable": "C"
         },
         {
          "value": -0.10478529407365901,
          "variable": "D"
         },
         {
          "value": -1.051841237172554,
          "variable": "D"
         },
         {
          "value": -0.06470035542158659,
          "variable": "D"
         },
         {
          "value": -0.8736172744954797,
          "variable": "D"
         },
         {
          "value": 0.31846277878321944,
          "variable": "D"
         },
         {
          "value": 0.6776674959069814,
          "variable": "D"
         },
         {
          "value": 0.47032013560452635,
          "variable": "D"
         },
         {
          "value": 0.5203263914878267,
          "variable": "D"
         },
         {
          "value": -2.1171241240093925,
          "variable": "D"
         },
         {
          "value": 0.7675097663726791,
          "variable": "D"
         },
         {
          "value": 1.2069713544014675,
          "variable": "D"
         },
         {
          "value": -1.6704803693691532,
          "variable": "D"
         },
         {
          "value": 0.9805373629100806,
          "variable": "D"
         },
         {
          "value": 0.6477843669847971,
          "variable": "D"
         },
         {
          "value": -1.1035182772974017,
          "variable": "D"
         },
         {
          "value": 1.1072729284383653,
          "variable": "D"
         },
         {
          "value": -0.1365756040215114,
          "variable": "D"
         },
         {
          "value": -1.019079604234089,
          "variable": "D"
         },
         {
          "value": -0.870274743982925,
          "variable": "D"
         },
         {
          "value": 0.23746890972001847,
          "variable": "D"
         },
         {
          "value": 0.2507531542609818,
          "variable": "D"
         },
         {
          "value": 0.5360813826240799,
          "variable": "D"
         },
         {
          "value": -1.2879296527634119,
          "variable": "D"
         },
         {
          "value": -0.03261748506034418,
          "variable": "D"
         },
         {
          "value": 0.6480358361631877,
          "variable": "D"
         },
         {
          "value": 0.9183735174873154,
          "variable": "D"
         },
         {
          "value": -1.2900494712547064,
          "variable": "D"
         },
         {
          "value": -1.8242065346117304,
          "variable": "D"
         },
         {
          "value": -1.4123442845199492,
          "variable": "D"
         },
         {
          "value": -2.9727260876991863,
          "variable": "D"
         }
        ]
       },
       "encoding": {
        "x": {
         "field": "variable",
         "type": "nominal"
        },
        "y": {
         "aggregate": "mean",
         "field": "value",
         "type": "quantitative"
        }
       },
       "mark": "bar"
      },
      "image/png": "[encoded data removed]",
      "text/plain": [
       "<VegaLite 2 object>\n",
       "\n",
       "If you see this message, it means the renderer has not been properly enabled\n",
       "for the frontend that you are using. For more information, see\n",
       "https://altair-viz.github.io/user_guide/troubleshooting.html\n"
      ]
     },
     "execution_count": 14,
     "metadata": {},
     "output_type": "execute_result"
    }
   ],
   "source": [
    "%run fivethirtyeight_theme.py\n",
    "chart"
   ]
  },
  {
   "cell_type": "code",
   "execution_count": 15,
   "metadata": {},
   "outputs": [
    {
     "data": {
      "application/vnd.vegalite.v2+json": {
       "$schema": "https://vega.github.io/schema/vega-lite/v2.6.0.json",
       "config": {
        "arc": {
         "fill": "#000"
        },
        "area": {
         "fill": "#000"
        },
        "axis": {
         "domain": false,
         "grid": true,
         "gridColor": "#FFFFFF",
         "gridOpacity": 1,
         "labelColor": "#7F7F7F",
         "labelPadding": 4,
         "tickColor": "#7F7F7F",
         "tickSize": 5.67,
         "titleFontSize": 16,
         "titleFontWeight": "normal"
        },
        "group": {
         "fill": "#e5e5e5"
        },
        "legend": {
         "labelBaseline": "middle",
         "labelFontSize": 11,
         "symbolSize": 40
        },
        "line": {
         "stroke": "#000"
        },
        "path": {
         "stroke": "#000"
        },
        "range": {
         "category": [
          "#000000",
          "#7F7F7F",
          "#1A1A1A",
          "#999999",
          "#333333",
          "#B0B0B0",
          "#4D4D4D",
          "#C9C9C9",
          "#666666",
          "#DCDCDC"
         ]
        },
        "rect": {
         "fill": "#000"
        },
        "shape": {
         "stroke": "#000"
        },
        "symbol": {
         "fill": "#000",
         "size": 40
        }
       },
       "data": {
        "name": "data-efb252e7c57bdc7da8542a41b9a92119"
       },
       "datasets": {
        "data-efb252e7c57bdc7da8542a41b9a92119": [
         {
          "value": -0.4610270322439197,
          "variable": "A"
         },
         {
          "value": -0.6367343500532895,
          "variable": "A"
         },
         {
          "value": 0.8774120795620142,
          "variable": "A"
         },
         {
          "value": 0.03825863022523785,
          "variable": "A"
         },
         {
          "value": 0.16534228478558757,
          "variable": "A"
         },
         {
          "value": -1.2817002072378272,
          "variable": "A"
         },
         {
          "value": -1.085245037265318,
          "variable": "A"
         },
         {
          "value": -0.27755227699130036,
          "variable": "A"
         },
         {
          "value": 1.3989583501573215,
          "variable": "A"
         },
         {
          "value": 0.19046818945796665,
          "variable": "A"
         },
         {
          "value": 0.19428312561992822,
          "variable": "A"
         },
         {
          "value": -0.5676233531129963,
          "variable": "A"
         },
         {
          "value": 0.500890590982962,
          "variable": "A"
         },
         {
          "value": -1.3855716484122758,
          "variable": "A"
         },
         {
          "value": -1.2546423680851004,
          "variable": "A"
         },
         {
          "value": -0.3357912900788574,
          "variable": "A"
         },
         {
          "value": -0.2205733984715034,
          "variable": "A"
         },
         {
          "value": -0.38340036433532537,
          "variable": "A"
         },
         {
          "value": 0.6614906436722245,
          "variable": "A"
         },
         {
          "value": -0.16313042252515567,
          "variable": "A"
         },
         {
          "value": -0.0247512080682622,
          "variable": "A"
         },
         {
          "value": 0.4582047341126467,
          "variable": "A"
         },
         {
          "value": 0.7640931522868072,
          "variable": "A"
         },
         {
          "value": 0.13934191383325467,
          "variable": "A"
         },
         {
          "value": -2.595368819795762,
          "variable": "A"
         },
         {
          "value": 1.1469702483563833,
          "variable": "A"
         },
         {
          "value": 0.1569965665258978,
          "variable": "A"
         },
         {
          "value": 1.2727001883205376,
          "variable": "A"
         },
         {
          "value": 1.022066496022976,
          "variable": "A"
         },
         {
          "value": 1.9412742747244585,
          "variable": "A"
         },
         {
          "value": -0.17794910128507585,
          "variable": "B"
         },
         {
          "value": -0.19125848427380304,
          "variable": "B"
         },
         {
          "value": 1.2870713074028026,
          "variable": "B"
         },
         {
          "value": -0.5125688683310612,
          "variable": "B"
         },
         {
          "value": 0.4481312599603682,
          "variable": "B"
         },
         {
          "value": 0.6524434972811275,
          "variable": "B"
         },
         {
          "value": 0.13585646332755005,
          "variable": "B"
         },
         {
          "value": 0.7553857040236626,
          "variable": "B"
         },
         {
          "value": -2.1056619465687616,
          "variable": "B"
         },
         {
          "value": -0.9536315716472301,
          "variable": "B"
         },
         {
          "value": -0.7169477714702117,
          "variable": "B"
         },
         {
          "value": 0.41664317515130195,
          "variable": "B"
         },
         {
          "value": -1.457125154898018,
          "variable": "B"
         },
         {
          "value": -0.5404389535609037,
          "variable": "B"
         },
         {
          "value": 0.4441621019182134,
          "variable": "B"
         },
         {
          "value": 0.6856720785530876,
          "variable": "B"
         },
         {
          "value": -0.4275324669827531,
          "variable": "B"
         },
         {
          "value": -0.15047880675178543,
          "variable": "B"
         },
         {
          "value": 0.7518239402290684,
          "variable": "B"
         },
         {
          "value": 0.10398054362137754,
          "variable": "B"
         },
         {
          "value": 0.12138507068140678,
          "variable": "B"
         },
         {
          "value": -0.8323046513564163,
          "variable": "B"
         },
         {
          "value": 0.4984733821697992,
          "variable": "B"
         },
         {
          "value": -0.7088761396238055,
          "variable": "B"
         },
         {
          "value": 0.9943449751503719,
          "variable": "B"
         },
         {
          "value": -1.7586532120383742,
          "variable": "B"
         },
         {
          "value": -0.6607685905194645,
          "variable": "B"
         },
         {
          "value": -0.024288387357977486,
          "variable": "B"
         },
         {
          "value": 0.050276850655552104,
          "variable": "B"
         },
         {
          "value": -0.7038782427342452,
          "variable": "B"
         },
         {
          "value": -1.303511032553364,
          "variable": "C"
         },
         {
          "value": 0.3672528437509079,
          "variable": "C"
         },
         {
          "value": 0.15431746576611127,
          "variable": "C"
         },
         {
          "value": -0.12050701912087032,
          "variable": "C"
         },
         {
          "value": -1.001284933212565,
          "variable": "C"
         },
         {
          "value": -0.2540785646235349,
          "variable": "C"
         },
         {
          "value": -0.4228158652442165,
          "variable": "C"
         },
         {
          "value": -0.27639931019436637,
          "variable": "C"
         },
         {
          "value": 0.7386595693388794,
          "variable": "C"
         },
         {
          "value": -0.17027595679665597,
          "variable": "C"
         },
         {
          "value": 1.7070936875500302,
          "variable": "C"
         },
         {
          "value": 0.6069723319741929,
          "variable": "C"
         },
         {
          "value": 1.0270365962403802,
          "variable": "C"
         },
         {
          "value": 0.46758760907703006,
          "variable": "C"
         },
         {
          "value": 0.6415122037432663,
          "variable": "C"
         },
         {
          "value": 0.41766557380695013,
          "variable": "C"
         },
         {
          "value": 1.2868813156207748,
          "variable": "C"
         },
         {
          "value": -1.0361781587260608,
          "variable": "C"
         },
         {
          "value": -1.9501744425748684,
          "variable": "C"
         },
         {
          "value": -1.5928820139123978,
          "variable": "C"
         },
         {
          "value": 0.6704357409608932,
          "variable": "C"
         },
         {
          "value": -2.4463859104477996,
          "variable": "C"
         },
         {
          "value": -1.0543874494218193,
          "variable": "C"
         },
         {
          "value": -0.795732408142419,
          "variable": "C"
         },
         {
          "value": 1.2816163963081522,
          "variable": "C"
         },
         {
          "value": -0.5406420949076187,
          "variable": "C"
         },
         {
          "value": -0.2619083589268465,
          "variable": "C"
         },
         {
          "value": 0.4286405470799978,
          "variable": "C"
         },
         {
          "value": -1.8172257984960618,
          "variable": "C"
         },
         {
          "value": 0.13706777478429144,
          "variable": "C"
         },
         {
          "value": -0.10478529407365901,
          "variable": "D"
         },
         {
          "value": -1.051841237172554,
          "variable": "D"
         },
         {
          "value": -0.06470035542158659,
          "variable": "D"
         },
         {
          "value": -0.8736172744954797,
          "variable": "D"
         },
         {
          "value": 0.31846277878321944,
          "variable": "D"
         },
         {
          "value": 0.6776674959069814,
          "variable": "D"
         },
         {
          "value": 0.47032013560452635,
          "variable": "D"
         },
         {
          "value": 0.5203263914878267,
          "variable": "D"
         },
         {
          "value": -2.1171241240093925,
          "variable": "D"
         },
         {
          "value": 0.7675097663726791,
          "variable": "D"
         },
         {
          "value": 1.2069713544014675,
          "variable": "D"
         },
         {
          "value": -1.6704803693691532,
          "variable": "D"
         },
         {
          "value": 0.9805373629100806,
          "variable": "D"
         },
         {
          "value": 0.6477843669847971,
          "variable": "D"
         },
         {
          "value": -1.1035182772974017,
          "variable": "D"
         },
         {
          "value": 1.1072729284383653,
          "variable": "D"
         },
         {
          "value": -0.1365756040215114,
          "variable": "D"
         },
         {
          "value": -1.019079604234089,
          "variable": "D"
         },
         {
          "value": -0.870274743982925,
          "variable": "D"
         },
         {
          "value": 0.23746890972001847,
          "variable": "D"
         },
         {
          "value": 0.2507531542609818,
          "variable": "D"
         },
         {
          "value": 0.5360813826240799,
          "variable": "D"
         },
         {
          "value": -1.2879296527634119,
          "variable": "D"
         },
         {
          "value": -0.03261748506034418,
          "variable": "D"
         },
         {
          "value": 0.6480358361631877,
          "variable": "D"
         },
         {
          "value": 0.9183735174873154,
          "variable": "D"
         },
         {
          "value": -1.2900494712547064,
          "variable": "D"
         },
         {
          "value": -1.8242065346117304,
          "variable": "D"
         },
         {
          "value": -1.4123442845199492,
          "variable": "D"
         },
         {
          "value": -2.9727260876991863,
          "variable": "D"
         }
        ]
       },
       "encoding": {
        "x": {
         "field": "variable",
         "type": "nominal"
        },
        "y": {
         "aggregate": "mean",
         "field": "value",
         "type": "quantitative"
        }
       },
       "mark": "bar"
      },
      "image/png": "[encoded data removed]",
      "text/plain": [
       "<VegaLite 2 object>\n",
       "\n",
       "If you see this message, it means the renderer has not been properly enabled\n",
       "for the frontend that you are using. For more information, see\n",
       "https://altair-viz.github.io/user_guide/troubleshooting.html\n"
      ]
     },
     "execution_count": 15,
     "metadata": {},
     "output_type": "execute_result"
    }
   ],
   "source": [
    "%run ggplot2_theme.py\n",
    "chart"
   ]
  },
  {
   "cell_type": "code",
   "execution_count": 16,
   "metadata": {},
   "outputs": [
    {
     "data": {
      "application/vnd.vegalite.v2+json": {
       "$schema": "https://vega.github.io/schema/vega-lite/v2.6.0.json",
       "config": {
        "arc": {
         "fill": "#3e5c69"
        },
        "area": {
         "fill": "#3e5c69"
        },
        "axis": {
         "domainWidth": 0.5,
         "grid": true,
         "labelPadding": 2,
         "tickSize": 5,
         "tickWidth": 0.5,
         "titleFontWeight": "normal"
        },
        "axisBand": {
         "grid": false
        },
        "axisX": {
         "gridWidth": 0.2
        },
        "axisY": {
         "gridDash": [
          3
         ],
         "gridWidth": 0.4
        },
        "background": "#fff",
        "legend": {
         "labelFontSize": 11,
         "padding": 1,
         "symbolType": "square"
        },
        "line": {
         "stroke": "#3e5c69"
        },
        "path": {
         "stroke": "#3e5c69"
        },
        "range": {
         "category": [
          "#3e5c69",
          "#6793a6",
          "#182429",
          "#0570b0",
          "#3690c0",
          "#74a9cf",
          "#a6bddb",
          "#e2ddf2"
         ]
        },
        "rect": {
         "fill": "#3e5c69"
        },
        "shape": {
         "stroke": "#3e5c69"
        },
        "symbol": {
         "fill": "#3e5c69"
        }
       },
       "data": {
        "name": "data-efb252e7c57bdc7da8542a41b9a92119"
       },
       "datasets": {
        "data-efb252e7c57bdc7da8542a41b9a92119": [
         {
          "value": -0.4610270322439197,
          "variable": "A"
         },
         {
          "value": -0.6367343500532895,
          "variable": "A"
         },
         {
          "value": 0.8774120795620142,
          "variable": "A"
         },
         {
          "value": 0.03825863022523785,
          "variable": "A"
         },
         {
          "value": 0.16534228478558757,
          "variable": "A"
         },
         {
          "value": -1.2817002072378272,
          "variable": "A"
         },
         {
          "value": -1.085245037265318,
          "variable": "A"
         },
         {
          "value": -0.27755227699130036,
          "variable": "A"
         },
         {
          "value": 1.3989583501573215,
          "variable": "A"
         },
         {
          "value": 0.19046818945796665,
          "variable": "A"
         },
         {
          "value": 0.19428312561992822,
          "variable": "A"
         },
         {
          "value": -0.5676233531129963,
          "variable": "A"
         },
         {
          "value": 0.500890590982962,
          "variable": "A"
         },
         {
          "value": -1.3855716484122758,
          "variable": "A"
         },
         {
          "value": -1.2546423680851004,
          "variable": "A"
         },
         {
          "value": -0.3357912900788574,
          "variable": "A"
         },
         {
          "value": -0.2205733984715034,
          "variable": "A"
         },
         {
          "value": -0.38340036433532537,
          "variable": "A"
         },
         {
          "value": 0.6614906436722245,
          "variable": "A"
         },
         {
          "value": -0.16313042252515567,
          "variable": "A"
         },
         {
          "value": -0.0247512080682622,
          "variable": "A"
         },
         {
          "value": 0.4582047341126467,
          "variable": "A"
         },
         {
          "value": 0.7640931522868072,
          "variable": "A"
         },
         {
          "value": 0.13934191383325467,
          "variable": "A"
         },
         {
          "value": -2.595368819795762,
          "variable": "A"
         },
         {
          "value": 1.1469702483563833,
          "variable": "A"
         },
         {
          "value": 0.1569965665258978,
          "variable": "A"
         },
         {
          "value": 1.2727001883205376,
          "variable": "A"
         },
         {
          "value": 1.022066496022976,
          "variable": "A"
         },
         {
          "value": 1.9412742747244585,
          "variable": "A"
         },
         {
          "value": -0.17794910128507585,
          "variable": "B"
         },
         {
          "value": -0.19125848427380304,
          "variable": "B"
         },
         {
          "value": 1.2870713074028026,
          "variable": "B"
         },
         {
          "value": -0.5125688683310612,
          "variable": "B"
         },
         {
          "value": 0.4481312599603682,
          "variable": "B"
         },
         {
          "value": 0.6524434972811275,
          "variable": "B"
         },
         {
          "value": 0.13585646332755005,
          "variable": "B"
         },
         {
          "value": 0.7553857040236626,
          "variable": "B"
         },
         {
          "value": -2.1056619465687616,
          "variable": "B"
         },
         {
          "value": -0.9536315716472301,
          "variable": "B"
         },
         {
          "value": -0.7169477714702117,
          "variable": "B"
         },
         {
          "value": 0.41664317515130195,
          "variable": "B"
         },
         {
          "value": -1.457125154898018,
          "variable": "B"
         },
         {
          "value": -0.5404389535609037,
          "variable": "B"
         },
         {
          "value": 0.4441621019182134,
          "variable": "B"
         },
         {
          "value": 0.6856720785530876,
          "variable": "B"
         },
         {
          "value": -0.4275324669827531,
          "variable": "B"
         },
         {
          "value": -0.15047880675178543,
          "variable": "B"
         },
         {
          "value": 0.7518239402290684,
          "variable": "B"
         },
         {
          "value": 0.10398054362137754,
          "variable": "B"
         },
         {
          "value": 0.12138507068140678,
          "variable": "B"
         },
         {
          "value": -0.8323046513564163,
          "variable": "B"
         },
         {
          "value": 0.4984733821697992,
          "variable": "B"
         },
         {
          "value": -0.7088761396238055,
          "variable": "B"
         },
         {
          "value": 0.9943449751503719,
          "variable": "B"
         },
         {
          "value": -1.7586532120383742,
          "variable": "B"
         },
         {
          "value": -0.6607685905194645,
          "variable": "B"
         },
         {
          "value": -0.024288387357977486,
          "variable": "B"
         },
         {
          "value": 0.050276850655552104,
          "variable": "B"
         },
         {
          "value": -0.7038782427342452,
          "variable": "B"
         },
         {
          "value": -1.303511032553364,
          "variable": "C"
         },
         {
          "value": 0.3672528437509079,
          "variable": "C"
         },
         {
          "value": 0.15431746576611127,
          "variable": "C"
         },
         {
          "value": -0.12050701912087032,
          "variable": "C"
         },
         {
          "value": -1.001284933212565,
          "variable": "C"
         },
         {
          "value": -0.2540785646235349,
          "variable": "C"
         },
         {
          "value": -0.4228158652442165,
          "variable": "C"
         },
         {
          "value": -0.27639931019436637,
          "variable": "C"
         },
         {
          "value": 0.7386595693388794,
          "variable": "C"
         },
         {
          "value": -0.17027595679665597,
          "variable": "C"
         },
         {
          "value": 1.7070936875500302,
          "variable": "C"
         },
         {
          "value": 0.6069723319741929,
          "variable": "C"
         },
         {
          "value": 1.0270365962403802,
          "variable": "C"
         },
         {
          "value": 0.46758760907703006,
          "variable": "C"
         },
         {
          "value": 0.6415122037432663,
          "variable": "C"
         },
         {
          "value": 0.41766557380695013,
          "variable": "C"
         },
         {
          "value": 1.2868813156207748,
          "variable": "C"
         },
         {
          "value": -1.0361781587260608,
          "variable": "C"
         },
         {
          "value": -1.9501744425748684,
          "variable": "C"
         },
         {
          "value": -1.5928820139123978,
          "variable": "C"
         },
         {
          "value": 0.6704357409608932,
          "variable": "C"
         },
         {
          "value": -2.4463859104477996,
          "variable": "C"
         },
         {
          "value": -1.0543874494218193,
          "variable": "C"
         },
         {
          "value": -0.795732408142419,
          "variable": "C"
         },
         {
          "value": 1.2816163963081522,
          "variable": "C"
         },
         {
          "value": -0.5406420949076187,
          "variable": "C"
         },
         {
          "value": -0.2619083589268465,
          "variable": "C"
         },
         {
          "value": 0.4286405470799978,
          "variable": "C"
         },
         {
          "value": -1.8172257984960618,
          "variable": "C"
         },
         {
          "value": 0.13706777478429144,
          "variable": "C"
         },
         {
          "value": -0.10478529407365901,
          "variable": "D"
         },
         {
          "value": -1.051841237172554,
          "variable": "D"
         },
         {
          "value": -0.06470035542158659,
          "variable": "D"
         },
         {
          "value": -0.8736172744954797,
          "variable": "D"
         },
         {
          "value": 0.31846277878321944,
          "variable": "D"
         },
         {
          "value": 0.6776674959069814,
          "variable": "D"
         },
         {
          "value": 0.47032013560452635,
          "variable": "D"
         },
         {
          "value": 0.5203263914878267,
          "variable": "D"
         },
         {
          "value": -2.1171241240093925,
          "variable": "D"
         },
         {
          "value": 0.7675097663726791,
          "variable": "D"
         },
         {
          "value": 1.2069713544014675,
          "variable": "D"
         },
         {
          "value": -1.6704803693691532,
          "variable": "D"
         },
         {
          "value": 0.9805373629100806,
          "variable": "D"
         },
         {
          "value": 0.6477843669847971,
          "variable": "D"
         },
         {
          "value": -1.1035182772974017,
          "variable": "D"
         },
         {
          "value": 1.1072729284383653,
          "variable": "D"
         },
         {
          "value": -0.1365756040215114,
          "variable": "D"
         },
         {
          "value": -1.019079604234089,
          "variable": "D"
         },
         {
          "value": -0.870274743982925,
          "variable": "D"
         },
         {
          "value": 0.23746890972001847,
          "variable": "D"
         },
         {
          "value": 0.2507531542609818,
          "variable": "D"
         },
         {
          "value": 0.5360813826240799,
          "variable": "D"
         },
         {
          "value": -1.2879296527634119,
          "variable": "D"
         },
         {
          "value": -0.03261748506034418,
          "variable": "D"
         },
         {
          "value": 0.6480358361631877,
          "variable": "D"
         },
         {
          "value": 0.9183735174873154,
          "variable": "D"
         },
         {
          "value": -1.2900494712547064,
          "variable": "D"
         },
         {
          "value": -1.8242065346117304,
          "variable": "D"
         },
         {
          "value": -1.4123442845199492,
          "variable": "D"
         },
         {
          "value": -2.9727260876991863,
          "variable": "D"
         }
        ]
       },
       "encoding": {
        "x": {
         "field": "variable",
         "type": "nominal"
        },
        "y": {
         "aggregate": "mean",
         "field": "value",
         "type": "quantitative"
        }
       },
       "mark": "bar"
      },
      "image/png": "[encoded data removed]",
      "text/plain": [
       "<VegaLite 2 object>\n",
       "\n",
       "If you see this message, it means the renderer has not been properly enabled\n",
       "for the frontend that you are using. For more information, see\n",
       "https://altair-viz.github.io/user_guide/troubleshooting.html\n"
      ]
     },
     "execution_count": 16,
     "metadata": {},
     "output_type": "execute_result"
    }
   ],
   "source": [
    "%run vox_theme.py\n",
    "chart"
   ]
  },
  {
   "cell_type": "code",
   "execution_count": null,
   "metadata": {},
   "outputs": [],
   "source": []
  }
 ],
 "metadata": {
  "kernelspec": {
   "display_name": "Python 3",
   "language": "python",
   "name": "python3"
  },
  "language_info": {
   "codemirror_mode": {
    "name": "ipython",
    "version": 3
   },
   "file_extension": ".py",
   "mimetype": "text/x-python",
   "name": "python",
   "nbconvert_exporter": "python",
   "pygments_lexer": "ipython3",
   "version": "3.6.3"
  }
 },
 "nbformat": 4,
 "nbformat_minor": 2
}
